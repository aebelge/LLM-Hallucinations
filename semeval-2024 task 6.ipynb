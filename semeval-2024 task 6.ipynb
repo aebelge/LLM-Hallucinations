{
    "cells": [
        {
            "cell_type": "code",
            "execution_count": null,
            "metadata": {
                "id": "yjyreiPzsdZC"
            },
            "outputs": [],
            "source": [
                "import numpy as np\n",
                "import pandas as pd\n",
                "import json\n",
                "import matplotlib.pyplot as plt\n",
                "from sentence_transformers import CrossEncoder\n",
                "from sentence_transformers import SentenceTransformer\n",
                "from tensorflow.keras.losses import CosineSimilarity\n",
                "from sklearn.metrics.pairwise import cosine_similarity\n",
                "from sklearn.metrics import mean_squared_error, accuracy_score\n",
                "from scipy.stats import spearmanr\n",
                "from scipy.optimize import minimize\n",
                "import random\n",
                "from torch.utils.data import DataLoader\n",
                "import math\n",
                "from sentence_transformers import LoggingHandler, util\n",
                "from sentence_transformers.cross_encoder.evaluation import CECorrelationEvaluator\n",
                "from sentence_transformers import InputExample\n",
                "import logging\n",
                "from datetime import datetime\n",
                "import sys\n",
                "import os\n",
                "import gzip\n",
                "import csv"
            ]
        },
        {
            "cell_type": "code",
            "execution_count": null,
            "metadata": {
                "id": "yRM6OXMXspzH"
            },
            "outputs": [],
            "source": [
                "fa = open(\"data/trial-v1.json\")\n",
                "test_data = json.load(fa)\n",
                "\n",
                "fb = open(\"data/val.model-agnostic.json\")\n",
                "valag = json.load(fb)\n",
                "\n",
                "fc = open(\"data/train.model-agnostic.json\")\n",
                "trainag = json.load(fc)\n",
                "\n",
                "#fd = open(\"data/train.model-aware.json\")\n",
                "#trainaw = json.load(fd)\n",
                "\n",
                "fe = open(\"data/val.model-aware.v2.json\")\n",
                "valaw = json.load(fe)\n"
            ]
        },
        {
            "cell_type": "code",
            "execution_count": null,
            "metadata": {
                "id": "9CPzoSoI5MAR"
            },
            "outputs": [],
            "source": [
                "train_data = trainag"
            ]
        },
        {
            "cell_type": "code",
            "execution_count": null,
            "metadata": {
                "id": "5DFqKIGu5SHV"
            },
            "outputs": [],
            "source": [
                "val_data = valag + valaw"
            ]
        },
        {
            "cell_type": "code",
            "execution_count": null,
            "metadata": {
                "id": "tb03pbyQvMxx"
            },
            "outputs": [],
            "source": [
                "combined = test_data + val_data\n",
                "N = len(combined)"
            ]
        },
        {
            "cell_type": "code",
            "execution_count": null,
            "metadata": {
                "id": "SfhgUpEHYEwF"
            },
            "outputs": [],
            "source": [
                "hyps = [d[\"hyp\"] for d in combined[:N]]\n",
                "short_tgt_entries = [entry for entry in combined[:N] if len(entry['tgt']) < 5]\n",
                "tgts = []\n",
                "for d in combined[:N]:\n",
                "  if d in short_tgt_entries:\n",
                "    tgts.append(d[\"src\"])\n",
                "  else:\n",
                "    tgts.append(d[\"tgt\"])\n",
                "\n",
                "labels = np.array([1-d[\"p(Hallucination)\"] for d in combined[:N]])"
            ]
        },
        {
            "cell_type": "code",
            "execution_count": null,
            "metadata": {
                "id": "-mRcsmUeDD0w"
            },
            "outputs": [],
            "source": [
                "def max_accuracy(pred, labels):\n",
                "    sol = minimize(lambda t: -accuracy_score((pred>t).astype(int), (labels > 0.5).astype(int)), x0=0.5, method='nelder-mead')\n",
                "    return (-sol.fun, sol.x[0])"
            ]
        },
        {
            "cell_type": "markdown",
            "metadata": {
                "id": "KJLq3T8Ho-U-"
            },
            "source": [
                "#cosine sim"
            ]
        },
        {
            "cell_type": "code",
            "execution_count": null,
            "metadata": {
                "colab": {
                    "base_uri": "https://localhost:8080/",
                    "height": 465,
                    "referenced_widgets": [
                        "d1f6cd40729b424e886f03b37110057d",
                        "c7096d2858844865870fc43cd87e96f4",
                        "401f6372dd9c4ed1a7d190d920f469db",
                        "6f16346fb1744267afefa2c47889b13d",
                        "ac684220539c4edc89c4cab576762a52",
                        "2e2f9f1fedfb4e3a9743fa158347ca23",
                        "ef0353e457724c7cb90c6f1fc9f22f1c",
                        "3e5e4edeef10434c92df750c967b6bf4",
                        "d0570b05aef941bc8073e3409c1cc767",
                        "f7eac70fbf594cd3b1ba4491258f70ab",
                        "513d2d66f74c48cf99397cddb13eadd9",
                        "7189b1068a5a41828d749bbd63871d6d",
                        "cff0210fbe21439fa5b7c2f332503771",
                        "cfb2788ee8364c26af126b414125adf6"
                    ]
                },
                "id": "S46eiZ-Z2oAZ",
                "outputId": "6fbe7498-c4d2-45ea-dc3a-7ae97e076923"
            },
            "outputs": [
                {
                    "data": {
                        "application/vnd.jupyter.widget-view+json": {
                            "model_id": "d1f6cd40729b424e886f03b37110057d",
                            "version_major": 2,
                            "version_minor": 0
                        },
                        "text/plain": [
                            ".gitattributes:   0%|          | 0.00/1.18k [00:00<?, ?B/s]"
                        ]
                    },
                    "metadata": {},
                    "output_type": "display_data"
                },
                {
                    "data": {
                        "application/vnd.jupyter.widget-view+json": {
                            "model_id": "c7096d2858844865870fc43cd87e96f4",
                            "version_major": 2,
                            "version_minor": 0
                        },
                        "text/plain": [
                            "1_Pooling/config.json:   0%|          | 0.00/190 [00:00<?, ?B/s]"
                        ]
                    },
                    "metadata": {},
                    "output_type": "display_data"
                },
                {
                    "data": {
                        "application/vnd.jupyter.widget-view+json": {
                            "model_id": "401f6372dd9c4ed1a7d190d920f469db",
                            "version_major": 2,
                            "version_minor": 0
                        },
                        "text/plain": [
                            "README.md:   0%|          | 0.00/10.6k [00:00<?, ?B/s]"
                        ]
                    },
                    "metadata": {},
                    "output_type": "display_data"
                },
                {
                    "data": {
                        "application/vnd.jupyter.widget-view+json": {
                            "model_id": "6f16346fb1744267afefa2c47889b13d",
                            "version_major": 2,
                            "version_minor": 0
                        },
                        "text/plain": [
                            "config.json:   0%|          | 0.00/612 [00:00<?, ?B/s]"
                        ]
                    },
                    "metadata": {},
                    "output_type": "display_data"
                },
                {
                    "data": {
                        "application/vnd.jupyter.widget-view+json": {
                            "model_id": "ac684220539c4edc89c4cab576762a52",
                            "version_major": 2,
                            "version_minor": 0
                        },
                        "text/plain": [
                            "config_sentence_transformers.json:   0%|          | 0.00/116 [00:00<?, ?B/s]"
                        ]
                    },
                    "metadata": {},
                    "output_type": "display_data"
                },
                {
                    "data": {
                        "application/vnd.jupyter.widget-view+json": {
                            "model_id": "2e2f9f1fedfb4e3a9743fa158347ca23",
                            "version_major": 2,
                            "version_minor": 0
                        },
                        "text/plain": [
                            "data_config.json:   0%|          | 0.00/39.3k [00:00<?, ?B/s]"
                        ]
                    },
                    "metadata": {},
                    "output_type": "display_data"
                },
                {
                    "data": {
                        "application/vnd.jupyter.widget-view+json": {
                            "model_id": "ef0353e457724c7cb90c6f1fc9f22f1c",
                            "version_major": 2,
                            "version_minor": 0
                        },
                        "text/plain": [
                            "pytorch_model.bin:   0%|          | 0.00/90.9M [00:00<?, ?B/s]"
                        ]
                    },
                    "metadata": {},
                    "output_type": "display_data"
                },
                {
                    "data": {
                        "application/vnd.jupyter.widget-view+json": {
                            "model_id": "3e5e4edeef10434c92df750c967b6bf4",
                            "version_major": 2,
                            "version_minor": 0
                        },
                        "text/plain": [
                            "sentence_bert_config.json:   0%|          | 0.00/53.0 [00:00<?, ?B/s]"
                        ]
                    },
                    "metadata": {},
                    "output_type": "display_data"
                },
                {
                    "data": {
                        "application/vnd.jupyter.widget-view+json": {
                            "model_id": "d0570b05aef941bc8073e3409c1cc767",
                            "version_major": 2,
                            "version_minor": 0
                        },
                        "text/plain": [
                            "special_tokens_map.json:   0%|          | 0.00/112 [00:00<?, ?B/s]"
                        ]
                    },
                    "metadata": {},
                    "output_type": "display_data"
                },
                {
                    "data": {
                        "application/vnd.jupyter.widget-view+json": {
                            "model_id": "f7eac70fbf594cd3b1ba4491258f70ab",
                            "version_major": 2,
                            "version_minor": 0
                        },
                        "text/plain": [
                            "tokenizer.json:   0%|          | 0.00/466k [00:00<?, ?B/s]"
                        ]
                    },
                    "metadata": {},
                    "output_type": "display_data"
                },
                {
                    "data": {
                        "application/vnd.jupyter.widget-view+json": {
                            "model_id": "513d2d66f74c48cf99397cddb13eadd9",
                            "version_major": 2,
                            "version_minor": 0
                        },
                        "text/plain": [
                            "tokenizer_config.json:   0%|          | 0.00/350 [00:00<?, ?B/s]"
                        ]
                    },
                    "metadata": {},
                    "output_type": "display_data"
                },
                {
                    "data": {
                        "application/vnd.jupyter.widget-view+json": {
                            "model_id": "7189b1068a5a41828d749bbd63871d6d",
                            "version_major": 2,
                            "version_minor": 0
                        },
                        "text/plain": [
                            "train_script.py:   0%|          | 0.00/13.2k [00:00<?, ?B/s]"
                        ]
                    },
                    "metadata": {},
                    "output_type": "display_data"
                },
                {
                    "data": {
                        "application/vnd.jupyter.widget-view+json": {
                            "model_id": "cff0210fbe21439fa5b7c2f332503771",
                            "version_major": 2,
                            "version_minor": 0
                        },
                        "text/plain": [
                            "vocab.txt:   0%|          | 0.00/232k [00:00<?, ?B/s]"
                        ]
                    },
                    "metadata": {},
                    "output_type": "display_data"
                },
                {
                    "data": {
                        "application/vnd.jupyter.widget-view+json": {
                            "model_id": "cfb2788ee8364c26af126b414125adf6",
                            "version_major": 2,
                            "version_minor": 0
                        },
                        "text/plain": [
                            "modules.json:   0%|          | 0.00/349 [00:00<?, ?B/s]"
                        ]
                    },
                    "metadata": {},
                    "output_type": "display_data"
                }
            ],
            "source": [
                "model = SentenceTransformer('all-MiniLM-L6-v2')"
            ]
        },
        {
            "cell_type": "code",
            "execution_count": null,
            "metadata": {
                "id": "4vqHMbPmya0t"
            },
            "outputs": [],
            "source": [
                "hyps_enc = model.encode(hyps)\n",
                "tgts_enc = model.encode(tgts)"
            ]
        },
        {
            "cell_type": "code",
            "execution_count": null,
            "metadata": {
                "id": "udwgq70i3s8f"
            },
            "outputs": [],
            "source": [
                "cosine = CosineSimilarity(reduction=\"none\")\n",
                "def cosine_sim(hyps_enc = hyps_enc, tgts_enc = tgts_enc, labels = labels, threshold = 0.5):\n",
                "    pred = 1-np.diag(cosine_similarity(hyps_enc, tgts_enc))\n",
                "    return {\n",
                "        \"mse\": mean_squared_error(pred, labels),\n",
                "        \"acc\": accuracy_score((pred>threshold).astype(int), (labels > 0.5).astype(int)),\n",
                "        \"spearman\": spearmanr(pred, labels).statistic,\n",
                "        \"max_acc\": max_accuracy(pred, labels)\n",
                "    }"
            ]
        },
        {
            "cell_type": "markdown",
            "metadata": {
                "id": "90wXINdiol98"
            },
            "source": [
                "Below we have the cosine similarity performance with hyp and tgt"
            ]
        },
        {
            "cell_type": "code",
            "execution_count": null,
            "metadata": {
                "colab": {
                    "base_uri": "https://localhost:8080/"
                },
                "id": "nRzSHA0S4AOO",
                "outputId": "19c11565-3348-4c09-cd35-9747027d321b"
            },
            "outputs": [
                {
                    "data": {
                        "text/plain": [
                            "{'mse': 0.30914111586880416,\n",
                            " 'acc': 0.31203703703703706,\n",
                            " 'spearman': -0.540173481170249,\n",
                            " 'max_acc': (0.43148148148148147, 1.0750000000000013)}"
                        ]
                    },
                    "execution_count": 13,
                    "metadata": {},
                    "output_type": "execute_result"
                }
            ],
            "source": [
                "cosine_sim()"
            ]
        },
        {
            "cell_type": "markdown",
            "metadata": {
                "id": "gl19Ztr4Rinb"
            },
            "source": [
                "#paraphrase\n",
                "\n"
            ]
        },
        {
            "cell_type": "code",
            "execution_count": null,
            "metadata": {
                "id": "pySyzO49RnPC",
                "colab": {
                    "base_uri": "https://localhost:8080/"
                },
                "outputId": "aa7588c6-4f02-4e7d-f37f-efad699ebac6"
            },
            "outputs": [
                {
                    "output_type": "execute_result",
                    "data": {
                        "text/plain": [
                            "[{'hyp': 'A district of Kowloon, China.',\n",
                            "  'ref': 'tgt',\n",
                            "  'src': \"The City <define> Chiuchow </define> is Kowloon 's other top restaurant and is famous for its goose dishes and other specialties from the Chiuchow region ( you may also wish to try the beef satay done in a creamy sauce ) .\",\n",
                            "  'tgt': 'The Chaoshan region where the Teochew dialect is spoken.',\n",
                            "  'model': '',\n",
                            "  'task': 'DM',\n",
                            "  'labels': ['Hallucination', 'Hallucination', 'Hallucination'],\n",
                            "  'label': 'Hallucination',\n",
                            "  'p(Hallucination)': 1.0},\n",
                            " {'hyp': '(Wicca) A witchdoctor.',\n",
                            "  'ref': 'tgt',\n",
                            "  'src': '“ I went to see the witchdoctor , the <define> igqira </define> . And he spoke to the izinyanya , the spirits of the ancestors . ”',\n",
                            "  'tgt': '(South Africa) A traditional tribal diviner or spiritual healer.',\n",
                            "  'model': '',\n",
                            "  'task': 'DM',\n",
                            "  'labels': ['Hallucination', 'Hallucination', 'Not Hallucination'],\n",
                            "  'label': 'Hallucination',\n",
                            "  'p(Hallucination)': 0.6666666666666666},\n",
                            " {'hyp': '(nautical) A halyard.',\n",
                            "  'ref': 'tgt',\n",
                            "  'src': \"Haul away , keeping strain on both parts of the halyard so that the <define> pigstick </define> remains vertical as it goes up and does n't foul the spreaders .\",\n",
                            "  'tgt': '(nautical) A staff that carries a flag or pennant above the mast of a sailboat.',\n",
                            "  'model': '',\n",
                            "  'task': 'DM',\n",
                            "  'labels': ['Hallucination', 'Not Hallucination', 'Not Hallucination'],\n",
                            "  'label': 'Not Hallucination',\n",
                            "  'p(Hallucination)': 0.3333333333333333},\n",
                            " {'hyp': 'The quality of being rational.',\n",
                            "  'ref': 'tgt',\n",
                            "  'src': 'And what difference is there between the credibleness and <define> rationalness </define> of any of these wonders and the credibleness and rationalness of Papal infallibility ?',\n",
                            "  'tgt': '(archaic) The quality or state of being rational.',\n",
                            "  'model': '',\n",
                            "  'task': 'DM',\n",
                            "  'labels': ['Not Hallucination', 'Not Hallucination', 'Not Hallucination'],\n",
                            "  'label': 'Not Hallucination',\n",
                            "  'p(Hallucination)': 0.0},\n",
                            " {'hyp': '(uncountable) The study of trees.',\n",
                            "  'ref': 'tgt',\n",
                            "  'src': 'It is now generally supposed that the forbidden fruit was a kind of citrus , but certain facts connected with <define> arborolatry </define> seem to me to disprove this opinion .',\n",
                            "  'tgt': 'The worship of trees.',\n",
                            "  'model': '',\n",
                            "  'task': 'DM',\n",
                            "  'labels': ['Hallucination', 'Hallucination', 'Hallucination'],\n",
                            "  'label': 'Hallucination',\n",
                            "  'p(Hallucination)': 1.0},\n",
                            " {'hyp': '(zoology) A pseudostome.',\n",
                            "  'ref': 'tgt',\n",
                            "  'src': 'The pseudembryo moves rapidly in the water , rolling round and swinging from side to side ; as a rule , and especially when at rest , the surface bearing the pseudostome and <define> pseudoproct </define> is turned downwards .',\n",
                            "  'tgt': '(biology) The anal opening on the pseudembryo of an echinoderm.',\n",
                            "  'model': '',\n",
                            "  'task': 'DM',\n",
                            "  'labels': ['Hallucination', 'Hallucination', 'Hallucination'],\n",
                            "  'label': 'Hallucination',\n",
                            "  'p(Hallucination)': 1.0},\n",
                            " {'hyp': 'Resembling or characteristic of umber.',\n",
                            "  'ref': 'tgt',\n",
                            "  'src': '<define> umbery </define> gold',\n",
                            "  'tgt': 'Of or pertaining to umber; like umber.',\n",
                            "  'model': '',\n",
                            "  'task': 'DM',\n",
                            "  'labels': ['Not Hallucination', 'Not Hallucination', 'Not Hallucination'],\n",
                            "  'label': 'Not Hallucination',\n",
                            "  'p(Hallucination)': 0.0},\n",
                            " {'hyp': '(music, transitive) To play (a note) at the same time.',\n",
                            "  'ref': 'tgt',\n",
                            "  'src': 'Now the two bounding notes of an enharmonic tetrachord of the relevant sort will indeed both be the lowest notes of pykna when the tetrachords are put together in conjunction ; but the higher of them can never <define> abut on </define> a pyknon in the case envisaged here , where the tone is introduced to disjoin the tetrachords .',\n",
                            "  'tgt': '(transitive) To border on.',\n",
                            "  'model': '',\n",
                            "  'task': 'DM',\n",
                            "  'labels': ['Hallucination', 'Hallucination', 'Hallucination'],\n",
                            "  'label': 'Hallucination',\n",
                            "  'p(Hallucination)': 1.0},\n",
                            " {'hyp': '(Australia, New Zealand, colloquial) A hatfish.',\n",
                            "  'ref': 'tgt',\n",
                            "  'src': \"Noah did n't realize when he stayed on the job - he was then about 600 years old and built the ark and drove the animals in two by two , the <define> hatfish </define> and the kangaroo — — he did n't realize he was laying the foundation for an occupation for old men in New York , several years later .\",\n",
                            "  'tgt': '(colloquial) Synonym of halibut',\n",
                            "  'model': '',\n",
                            "  'task': 'DM',\n",
                            "  'labels': ['Hallucination', 'Not Hallucination', 'Not Hallucination'],\n",
                            "  'label': 'Not Hallucination',\n",
                            "  'p(Hallucination)': 0.3333333333333333},\n",
                            " {'hyp': 'Having a keen sense of humor.',\n",
                            "  'ref': 'tgt',\n",
                            "  'src': '<define> keen </define> satire or sarcasm',\n",
                            "  'tgt': 'Acrimonious, bitter, piercing.',\n",
                            "  'model': '',\n",
                            "  'task': 'DM',\n",
                            "  'labels': ['Hallucination', 'Hallucination', 'Hallucination'],\n",
                            "  'label': 'Hallucination',\n",
                            "  'p(Hallucination)': 1.0},\n",
                            " {'hyp': 'A person who has a pass.',\n",
                            "  'ref': 'tgt',\n",
                            "  'src': '<define> Passholders </define> can visit the theme park all year round .',\n",
                            "  'tgt': 'One who holds a pass.',\n",
                            "  'model': '',\n",
                            "  'task': 'DM',\n",
                            "  'labels': ['Not Hallucination', 'Not Hallucination', 'Not Hallucination'],\n",
                            "  'label': 'Not Hallucination',\n",
                            "  'p(Hallucination)': 0.0},\n",
                            " {'hyp': '(colloquial) A term of endearment.',\n",
                            "  'ref': 'tgt',\n",
                            "  'src': \"Hey , <define> babe </define> , how 's about you and me getting together ?\",\n",
                            "  'tgt': '(affectionate) Darling (term of endearment).',\n",
                            "  'model': '',\n",
                            "  'task': 'DM',\n",
                            "  'labels': ['Not Hallucination', 'Not Hallucination', 'Not Hallucination'],\n",
                            "  'label': 'Not Hallucination',\n",
                            "  'p(Hallucination)': 0.0},\n",
                            " {'hyp': '(intransitive) To speak in a slurred manner.',\n",
                            "  'ref': 'tgt',\n",
                            "  'src': \"Sometimes life takes hold of one , carries the body along , accomplishes one 's history , and yet is not real , but leaves oneself as it were <define> slurred over </define> .\",\n",
                            "  'tgt': '(dated) To deal with something hurriedly; to treat in a perfunctory manner.',\n",
                            "  'model': '',\n",
                            "  'task': 'DM',\n",
                            "  'labels': ['Hallucination', 'Hallucination', 'Hallucination'],\n",
                            "  'label': 'Hallucination',\n",
                            "  'p(Hallucination)': 1.0},\n",
                            " {'hyp': 'A device that simulates walking.',\n",
                            "  'ref': 'tgt',\n",
                            "  'src': 'During the late 1960s and early 1970s , it was also the site of the lunar 1⁄6 gravity <define> walking simulator </define> rig .',\n",
                            "  'tgt': 'Used other than figuratively or idiomatically: see walking,\u200e simulator.',\n",
                            "  'model': '',\n",
                            "  'task': 'DM',\n",
                            "  'labels': ['Not Hallucination', 'Not Hallucination', 'Hallucination'],\n",
                            "  'label': 'Not Hallucination',\n",
                            "  'p(Hallucination)': 0.3333333333333333},\n",
                            " {'hyp': '(intransitive, colloquial) To be very hot.',\n",
                            "  'ref': 'tgt',\n",
                            "  'src': \"Let 's face it , they 're there for a good stroll on a Sunday afternoon when it 's <define> pissing </define>   outside .\",\n",
                            "  'tgt': '(ambitransitive, mildly, _, vulgar) To rain heavily.',\n",
                            "  'model': '',\n",
                            "  'task': 'DM',\n",
                            "  'labels': ['Hallucination', 'Hallucination', 'Hallucination'],\n",
                            "  'label': 'Hallucination',\n",
                            "  'p(Hallucination)': 1.0},\n",
                            " {'hyp': '(geology) Synonym of synecdoche',\n",
                            "  'ref': 'tgt',\n",
                            "  'src': 'In the Ronne <define> syneclise </define> the thickness of sedimentary cover reaches 13.5 km and the folded basement has a complex relief owing to block movements along faults of different rank .',\n",
                            "  'tgt': '(geology) A large, shallow depression formed on a continental platform due to slow subsidence.',\n",
                            "  'model': '',\n",
                            "  'task': 'DM',\n",
                            "  'labels': ['Hallucination', 'Hallucination', 'Hallucination'],\n",
                            "  'label': 'Hallucination',\n",
                            "  'p(Hallucination)': 1.0},\n",
                            " {'hyp': '(informal) A person who is addicted to sport.',\n",
                            "  'ref': 'tgt',\n",
                            "  'src': 'I have spent much of my life a recovering <define> sportaholic </define> . If it bounced , rolled , slid , or flew , I chased it . Or watched it .',\n",
                            "  'tgt': 'A sportsaholic.',\n",
                            "  'model': '',\n",
                            "  'task': 'DM',\n",
                            "  'labels': ['Not Hallucination', 'Not Hallucination', 'Not Hallucination'],\n",
                            "  'label': 'Not Hallucination',\n",
                            "  'p(Hallucination)': 0.0},\n",
                            " {'hyp': 'Resembling or characteristic of French surrealism.',\n",
                            "  'ref': 'tgt',\n",
                            "  'src': 'Quatermass also mediated Wellsian influence on the tone and preoccupations of the new hybrid SF – horror - film genre , with its monstrous <define> Gigeresque </define> fusions of machine and organism [ … ]',\n",
                            "  'tgt': 'Reminiscent of H. R. Giger (born 1940), Swiss surrealist painter best known for nightmarish biomechanical imagery.',\n",
                            "  'model': '',\n",
                            "  'task': 'DM',\n",
                            "  'labels': ['Hallucination', 'Hallucination', 'Not Hallucination'],\n",
                            "  'label': 'Hallucination',\n",
                            "  'p(Hallucination)': 0.6666666666666666},\n",
                            " {'hyp': 'The state or quality of being a princess.',\n",
                            "  'ref': 'tgt',\n",
                            "  'src': '“ What are you doing ? ” Carly asked , looking around . “ You do n’t want to be in here . You ’re way too much of a princess . ” / “ Remember how I grew up , Carly . I ’ve earned my <define> princessness </define> . ”',\n",
                            "  'tgt': 'The quality of being a princess.',\n",
                            "  'model': '',\n",
                            "  'task': 'DM',\n",
                            "  'labels': ['Not Hallucination', 'Not Hallucination', 'Not Hallucination'],\n",
                            "  'label': 'Not Hallucination',\n",
                            "  'p(Hallucination)': 0.0},\n",
                            " {'hyp': '(Australia, New Zealand, colloquial) A tree.',\n",
                            "  'ref': 'tgt',\n",
                            "  'src': 'He climbed over the sedge and eely oarweeds and sat on a stool of rock , resting his ashplant in a <define> grike </define> .',\n",
                            "  'tgt': '(chiefly, British) A deep cleft formed in limestone surfaces due to water erosion; providing a unique habitat for plants.',\n",
                            "  'model': '',\n",
                            "  'task': 'DM',\n",
                            "  'labels': ['Hallucination', 'Hallucination', 'Hallucination'],\n",
                            "  'label': 'Hallucination',\n",
                            "  'p(Hallucination)': 1.0},\n",
                            " {'hyp': '(intransitive) To die.',\n",
                            "  'ref': 'tgt',\n",
                            "  'src': '\" But why should I be in another room ? \" \" You <define> passed over </define> in the night . \" \" Passed over ? Do you mean I died ? \" \" Yes , lady , you died . \" There was a long silence .',\n",
                            "  'tgt': '(intransitive, euphemistic) To die and thus progress to the afterlife.',\n",
                            "  'model': '',\n",
                            "  'task': 'DM',\n",
                            "  'labels': ['Not Hallucination', 'Not Hallucination', 'Not Hallucination'],\n",
                            "  'label': 'Not Hallucination',\n",
                            "  'p(Hallucination)': 0.0},\n",
                            " {'hyp': 'Alternative form of scatter site',\n",
                            "  'ref': 'tgt',\n",
                            "  'src': 'It is designed for single - family use in subdivisions or <define> scatter sites </define> and available as a standardized product   [ … ]',\n",
                            "  'tgt': 'An area of state-sponsored housing used as a shelter for homeless people; such housing is scattered across different parts of a city rather than concentrated in one place.',\n",
                            "  'model': '',\n",
                            "  'task': 'DM',\n",
                            "  'labels': ['Hallucination', 'Hallucination', 'Not Hallucination'],\n",
                            "  'label': 'Hallucination',\n",
                            "  'p(Hallucination)': 0.6666666666666666},\n",
                            " {'hyp': 'The state or condition of being obsolescent.',\n",
                            "  'ref': 'tgt',\n",
                            "  'src': 'One way is to legislate extended warranties on products , so washing machines and refrigerators last for 30 years instead of 10 . Another is to ban planned <define> obsolescence </define> , so manufacturers ca n’t create products that are designed to fail .',\n",
                            "  'tgt': '(uncountable) The state of being obsolete—no longer in use; gone into disuse; disused or neglected.',\n",
                            "  'model': '',\n",
                            "  'task': 'DM',\n",
                            "  'labels': ['Not Hallucination', 'Not Hallucination', 'Not Hallucination'],\n",
                            "  'label': 'Not Hallucination',\n",
                            "  'p(Hallucination)': 0.0},\n",
                            " {'hyp': 'Alternative form of gartel (“dance”)',\n",
                            "  'ref': 'tgt',\n",
                            "  'src': 'The bride stands perfectly still at one end of the room and holds a long <define> gartel </define> while the male dancing before her holds the other end .',\n",
                            "  'tgt': '(Judaism) A belt or sash used in prayer.',\n",
                            "  'model': '',\n",
                            "  'task': 'DM',\n",
                            "  'labels': ['Hallucination', 'Hallucination', 'Hallucination'],\n",
                            "  'label': 'Hallucination',\n",
                            "  'p(Hallucination)': 1.0},\n",
                            " ...]"
                        ]
                    },
                    "metadata": {},
                    "execution_count": 9
                }
            ],
            "source": [
                "combined"
            ]
        },
        {
            "cell_type": "code",
            "execution_count": null,
            "metadata": {
                "id": "1ShHwkFsSYkH"
            },
            "outputs": [],
            "source": [
                "def extract(data, task):\n",
                "  final = []\n",
                "  for i in range(len(data)):\n",
                "    if data[i][\"task\"] == task:\n",
                "      final.append(data[i])\n",
                "    else:\n",
                "      continue\n",
                "  return final"
            ]
        },
        {
            "cell_type": "code",
            "execution_count": null,
            "metadata": {
                "id": "JgwNCLGES56c"
            },
            "outputs": [],
            "source": [
                "pg = extract(combined, 'PG')\n",
                "mt = extract(combined, 'MT')\n",
                "dm = extract(combined, 'DM')"
            ]
        },
        {
            "cell_type": "code",
            "execution_count": null,
            "metadata": {
                "id": "KdZsDQT_TSAn"
            },
            "outputs": [],
            "source": [
                "def labeler(combined):\n",
                "  hyps = [d[\"hyp\"] for d in combined[:N]]\n",
                "  short_tgt_entries = [entry for entry in combined[:N] if len(entry['tgt']) < 5]\n",
                "  tgts = []\n",
                "  for d in combined[:N]:\n",
                "    if d in short_tgt_entries:\n",
                "      tgts.append(d[\"src\"])\n",
                "    else:\n",
                "      tgts.append(d[\"tgt\"])\n",
                "\n",
                "  labels = np.array([1-d[\"p(Hallucination)\"] for d in combined[:N]])\n",
                "  return (hyps, tgts, labels)"
            ]
        },
        {
            "cell_type": "code",
            "execution_count": null,
            "metadata": {
                "id": "Rcn4X5FKT06n"
            },
            "outputs": [],
            "source": [
                "pg_te = labeler(pg)\n",
                "dm_te = labeler(dm)\n",
                "mt_te = labeler(mt)"
            ]
        },
        {
            "cell_type": "code",
            "execution_count": null,
            "metadata": {
                "id": "KmqQObUDUNfJ"
            },
            "outputs": [],
            "source": [
                "sentences_pg = [(tgt,hyp) for tgt, hyp in zip(pg_te[0], pg_te[1])]\n",
                "sentences_mt = [(tgt,hyp) for tgt, hyp in zip(mt_te[0], mt_te[1])]\n",
                "sentences_dm = [(tgt,hyp) for tgt, hyp in zip(dm_te[0], dm_te[1])]"
            ]
        },
        {
            "cell_type": "code",
            "execution_count": null,
            "metadata": {
                "id": "DOCnvBunWT4k"
            },
            "outputs": [],
            "source": [
                "labels_pg = pg_te[2]\n",
                "labels_mt = mt_te[2]\n",
                "labels_dm = dm_te[2]"
            ]
        },
        {
            "cell_type": "markdown",
            "metadata": {
                "id": "NuymtQ0ypBwe"
            },
            "source": [
                "#cross encoder test\n"
            ]
        },
        {
            "cell_type": "code",
            "execution_count": null,
            "metadata": {
                "id": "O8iOGYygImMx"
            },
            "outputs": [],
            "source": [
                "sentences = [(tgt,hyp) for tgt, hyp in zip(tgts, hyps)]"
            ]
        },
        {
            "cell_type": "code",
            "execution_count": null,
            "metadata": {
                "colab": {
                    "base_uri": "https://localhost:8080/",
                    "height": 209,
                    "referenced_widgets": [
                        "73b79f46a4ac46e185ff526b64123e5f",
                        "f5047cd2b65344448cfe56fca008eed9",
                        "18faaaf66e83495aa774502de70150ff",
                        "2e09467fb10e4bd29775c0756616b78e",
                        "65915c59703a4ef88b02c078581f0050",
                        "6e3b8f51fe914c98a021bbf213bf8add",
                        "49daa6939c4b4e4da29f5b3e17c6ba13",
                        "8772a7584b6741ae88d41849bb606516",
                        "a2f283a1dc934a64a63440f4edc3a4ab",
                        "f28bc3eeaccc42aa9146a1cbab5f3ed0",
                        "5485cef777a84b828ec7dfbbc705786e",
                        "7179c4ff1a2e40538ad4bdd1b68de1ff",
                        "905ce107eccf427ab4ace1c2d2644f95",
                        "662407e6b14c462ab1c068261b4bad2c",
                        "27d25bb64a5b45b4940050538cc49bc2",
                        "63d2762de9724bdc8c6f39d1db974e66",
                        "542a307493ef4cd789ff76b97168d452",
                        "64102a9789e64b7aaa7bd0116ae31140",
                        "e5d8bd19c0b44ce2ad25b0be6cdbc89f",
                        "5e5eb952753245e3bfb9b317e7add0a0",
                        "3b30da7aaa5b4bde8c6e16895d691e98",
                        "4258f3f7f80f477988ff027710e6bca1",
                        "808f6aaf6be749e09878a0df6efb2b65",
                        "a77a7b3b76d84e208cf2be8d11b81a3f",
                        "d7815eb16b904958a15bcf68eff898b1",
                        "4a8a5eb7e6054b25af4a414c5e105875",
                        "acbb121a9c5b4a6a9c77f76b733495cf",
                        "96c6329db4c34097bbb0ce8a7f3fa00b",
                        "adc502227a634aa191c5b4eb116ea08e",
                        "c5b3a2b493b0492296f75c479fec58fa",
                        "a12fc5ae72634ced8f13e8ba0e7e93db",
                        "7f9a415a02bf4daabf9d46dc1b7b58a5",
                        "d010728e4ea543cda215b1865317c504",
                        "982f477ece74407aa357d4f6bb366d60",
                        "dd92fb30225e4ed599efd2974ad33bd2",
                        "1813ea2ecd5f42ce95f9276bcdf02c20",
                        "b9cfc47709e949049ef96d483fee8e66",
                        "cba564aab7b141cdad3ffcfe5bd102ab",
                        "618b7536b126424d85e711d5a493dc50",
                        "441b061ab9534651b73d68234688db18",
                        "a35abbc9eec6494884dbd19ffc692cf4",
                        "a8e096fe4b1344358c424e6d813477f8",
                        "ced3ab2ee841464a995fb09631e1dcc4",
                        "5271241f7a574973b5645244057f93e9",
                        "f22e0988982c4ee39ff369637361f9a1",
                        "0198023361c94b299e2cf8f8011ed3e1",
                        "e50d3b122eca43ec848cd9bf6ad5b89d",
                        "6a00029738454bc09aa2aea2afc07ad5",
                        "a7e61821ef714aea9048fb4c407ee8b6",
                        "842a68edc3684e7e8a751d8f55b00144",
                        "98d042a4282b495d8e3075331daef7ee",
                        "feafad981bf9408fa05da4fa82bb18b4",
                        "722e06641a494ab3ab4886050f1d8ac9",
                        "7357e02b4dcb4b1982593f2fc6f19e1b",
                        "6ba1da51091e48d0970910dbd9cb6ce1",
                        "f84b7f1a4be04e5b9b1e618546496dfa",
                        "950b98e8a30b4b5e946f0f35c58ac3c0",
                        "0aaf08b984a34ca79793b71119326207",
                        "1633aad97ebb46439ff4d341251fc8d3",
                        "228311648dbd4c0c89d3551c4e600a74",
                        "e282096362fc4aafb4221e56bb5277fc",
                        "b22f5cf73ffb4beab2ed210dbb35934c",
                        "94a2f4ce05b94f858160a6a1587462b5",
                        "edf3c6ec00894c6eafd138b5d903f45e",
                        "372e39abab6a4980972a7c1d37c5ca90",
                        "a576b548f06f4117b37ad47b9bfd13a6"
                    ]
                },
                "id": "YUy4ERKgKy-H",
                "outputId": "af9101d7-9358-41b6-f5ed-bb78dcafccc3"
            },
            "outputs": [
                {
                    "output_type": "display_data",
                    "data": {
                        "text/plain": [
                            "config.json:   0%|          | 0.00/629 [00:00<?, ?B/s]"
                        ],
                        "application/vnd.jupyter.widget-view+json": {
                            "version_major": 2,
                            "version_minor": 0,
                            "model_id": "73b79f46a4ac46e185ff526b64123e5f"
                        }
                    },
                    "metadata": {}
                },
                {
                    "output_type": "display_data",
                    "data": {
                        "text/plain": [
                            "pytorch_model.bin:   0%|          | 0.00/1.42G [00:00<?, ?B/s]"
                        ],
                        "application/vnd.jupyter.widget-view+json": {
                            "version_major": 2,
                            "version_minor": 0,
                            "model_id": "7179c4ff1a2e40538ad4bdd1b68de1ff"
                        }
                    },
                    "metadata": {}
                },
                {
                    "output_type": "display_data",
                    "data": {
                        "text/plain": [
                            "tokenizer_config.json:   0%|          | 0.00/139 [00:00<?, ?B/s]"
                        ],
                        "application/vnd.jupyter.widget-view+json": {
                            "version_major": 2,
                            "version_minor": 0,
                            "model_id": "808f6aaf6be749e09878a0df6efb2b65"
                        }
                    },
                    "metadata": {}
                },
                {
                    "output_type": "display_data",
                    "data": {
                        "text/plain": [
                            "vocab.json:   0%|          | 0.00/899k [00:00<?, ?B/s]"
                        ],
                        "application/vnd.jupyter.widget-view+json": {
                            "version_major": 2,
                            "version_minor": 0,
                            "model_id": "982f477ece74407aa357d4f6bb366d60"
                        }
                    },
                    "metadata": {}
                },
                {
                    "output_type": "display_data",
                    "data": {
                        "text/plain": [
                            "merges.txt:   0%|          | 0.00/456k [00:00<?, ?B/s]"
                        ],
                        "application/vnd.jupyter.widget-view+json": {
                            "version_major": 2,
                            "version_minor": 0,
                            "model_id": "f22e0988982c4ee39ff369637361f9a1"
                        }
                    },
                    "metadata": {}
                },
                {
                    "output_type": "display_data",
                    "data": {
                        "text/plain": [
                            "special_tokens_map.json:   0%|          | 0.00/772 [00:00<?, ?B/s]"
                        ],
                        "application/vnd.jupyter.widget-view+json": {
                            "version_major": 2,
                            "version_minor": 0,
                            "model_id": "f84b7f1a4be04e5b9b1e618546496dfa"
                        }
                    },
                    "metadata": {}
                }
            ],
            "source": [
                "model = CrossEncoder('cross-encoder/stsb-roberta-large')"
            ]
        },
        {
            "cell_type": "code",
            "execution_count": null,
            "metadata": {
                "id": "FKvsafefKddr"
            },
            "outputs": [],
            "source": [
                "def cross_encoder(model, sentences = sentences, labels = labels, threshold = 0.5):\n",
                "    pred = model.predict(sentences)\n",
                "    return {\n",
                "        \"mse\": mean_squared_error(pred, labels),\n",
                "        \"acc\": accuracy_score((pred>threshold).astype(int), (labels > 0.5).astype(int)),\n",
                "        \"spearman\": spearmanr(pred, labels).statistic,\n",
                "        \"max_acc\": max_accuracy(pred, labels)\n",
                "    }"
            ]
        },
        {
            "cell_type": "code",
            "execution_count": null,
            "metadata": {
                "colab": {
                    "base_uri": "https://localhost:8080/"
                },
                "id": "KwRbL--eWoBe",
                "outputId": "9d1bf2f3-9d2e-400e-80a7-a6902f32c92c"
            },
            "outputs": [
                {
                    "output_type": "execute_result",
                    "data": {
                        "text/plain": [
                            "{'mse': 0.07766532543594602,\n",
                            " 'acc': 0.7644787644787645,\n",
                            " 'spearman': 0.4885076367036571,\n",
                            " 'max_acc': (0.7683397683397684, 0.525)}"
                        ]
                    },
                    "metadata": {},
                    "execution_count": 19
                }
            ],
            "source": [
                "cross_encoder(model, sentences_pg, labels_pg)"
            ]
        },
        {
            "cell_type": "code",
            "execution_count": null,
            "metadata": {
                "colab": {
                    "base_uri": "https://localhost:8080/"
                },
                "id": "Ecy3S3EULd7F",
                "outputId": "bb7373c1-6298-45a3-ab37-a8d38520770d"
            },
            "outputs": [
                {
                    "output_type": "execute_result",
                    "data": {
                        "text/plain": [
                            "{'mse': 0.09138854570433415,\n",
                            " 'acc': 0.7317073170731707,\n",
                            " 'spearman': 0.7641790865361489,\n",
                            " 'max_acc': (0.8170731707317073, 0.7640625000000008)}"
                        ]
                    },
                    "metadata": {},
                    "execution_count": 20
                }
            ],
            "source": [
                "cross_encoder(model,sentences_mt, labels_mt)"
            ]
        },
        {
            "cell_type": "code",
            "execution_count": null,
            "metadata": {
                "colab": {
                    "base_uri": "https://localhost:8080/"
                },
                "id": "_m_i-zwJWqRm",
                "outputId": "dd0ed64d-0e4b-4290-d614-2ce960e9613c"
            },
            "outputs": [
                {
                    "output_type": "execute_result",
                    "data": {
                        "text/plain": [
                            "{'mse': 0.0697288225326818,\n",
                            " 'acc': 0.7518248175182481,\n",
                            " 'spearman': 0.6990597094403248,\n",
                            " 'max_acc': (0.7688564476885644, 0.53125)}"
                        ]
                    },
                    "metadata": {},
                    "execution_count": 21
                }
            ],
            "source": [
                "cross_encoder(model,sentences_dm, labels_dm)"
            ]
        },
        {
            "cell_type": "code",
            "execution_count": null,
            "metadata": {
                "colab": {
                    "base_uri": "https://localhost:8080/"
                },
                "id": "k64cG0zoaBgH",
                "outputId": "a7a5e949-ddcb-4011-a87d-a866756b2234"
            },
            "outputs": [
                {
                    "output_type": "execute_result",
                    "data": {
                        "text/plain": [
                            "{'mse': 0.08169967270364008,\n",
                            " 'acc': 0.7481481481481481,\n",
                            " 'spearman': 0.6781231058330586,\n",
                            " 'max_acc': (0.7666666666666667, 0.5750000000000002)}"
                        ]
                    },
                    "metadata": {},
                    "execution_count": 22
                }
            ],
            "source": [
                "cross_encoder(model,sentences, labels)"
            ]
        },
        {
            "cell_type": "markdown",
            "metadata": {
                "id": "CX2c9-oubeCH"
            },
            "source": [
                "#Training\n"
            ]
        },
        {
            "cell_type": "code",
            "execution_count": null,
            "metadata": {
                "id": "y_aPBS6ybidG"
            },
            "outputs": [],
            "source": [
                "N = len(train_data)"
            ]
        },
        {
            "cell_type": "code",
            "execution_count": null,
            "metadata": {
                "id": "L2ULKqfSbgj3"
            },
            "outputs": [],
            "source": [
                "pg1 = extract(train_data, 'PG')\n",
                "mt1 = extract(train_data, 'MT')\n",
                "dm1 = extract(train_data, 'DM')"
            ]
        },
        {
            "cell_type": "code",
            "execution_count": null,
            "metadata": {
                "id": "VTSYiZjbkj1B"
            },
            "outputs": [],
            "source": [
                "def labelertr(combined):\n",
                "  hyps = [d[\"hyp\"] for d in combined[:N]]\n",
                "  short_tgt_entries = [entry for entry in combined[:N] if len(entry['tgt']) < 5]\n",
                "  tgts = []\n",
                "  for d in combined[:N]:\n",
                "    if d in short_tgt_entries:\n",
                "      tgts.append(d[\"src\"])\n",
                "    else:\n",
                "      tgts.append(d[\"tgt\"])\n",
                "  return (hyps, tgts)"
            ]
        },
        {
            "cell_type": "code",
            "execution_count": null,
            "metadata": {
                "id": "CSS0th9akgt5"
            },
            "outputs": [],
            "source": [
                "pg_tr = labelertr(pg1)\n",
                "dm_tr = labelertr(dm1)\n",
                "mt_tr = labelertr(mt1)"
            ]
        },
        {
            "cell_type": "code",
            "execution_count": null,
            "metadata": {
                "id": "CWcmgXkJbgj3"
            },
            "outputs": [],
            "source": [
                "sentences_pg1 = [(tgt,hyp) for tgt, hyp in zip(pg_tr[0], pg_tr[1])]\n",
                "sentences_mt1 = [(tgt,hyp) for tgt, hyp in zip(mt_tr[0], mt_tr[1])]\n",
                "sentences_dm1 = [(tgt,hyp) for tgt, hyp in zip(dm_tr[0], dm_tr[1])]"
            ]
        },
        {
            "cell_type": "code",
            "execution_count": null,
            "metadata": {
                "colab": {
                    "base_uri": "https://localhost:8080/"
                },
                "id": "J_izOZf5k7Vc",
                "outputId": "ae7daa86-cbe8-442e-8c70-75cfbab1e570"
            },
            "outputs": [
                {
                    "output_type": "execute_result",
                    "data": {
                        "text/plain": [
                            "10000"
                        ]
                    },
                    "metadata": {},
                    "execution_count": 28
                }
            ],
            "source": [
                "len(sentences_pg1)"
            ]
        },
        {
            "cell_type": "code",
            "execution_count": null,
            "metadata": {
                "colab": {
                    "base_uri": "https://localhost:8080/",
                    "height": 472
                },
                "id": "kWBWWXOXnHPc",
                "outputId": "1b3fed77-1da8-417d-cbd2-8b82a1eddb6d"
            },
            "outputs": [
                {
                    "output_type": "display_data",
                    "data": {
                        "text/plain": [
                            "<Figure size 640x480 with 1 Axes>"
                        ],
                        "image/png": "[encoded data removed]"
                    },
                    "metadata": {}
                }
            ],
            "source": [
                "plt.hist(labels_pg, bins=10, alpha=0.7, color='blue')\n",
                "plt.title('Histogram of pred_tr values')\n",
                "plt.xlabel('Value')\n",
                "plt.ylabel('Frequency')\n",
                "plt.show()"
            ]
        },
        {
            "cell_type": "code",
            "execution_count": null,
            "metadata": {
                "colab": {
                    "base_uri": "https://localhost:8080/",
                    "height": 472
                },
                "id": "Kt3RrzWDnLjt",
                "outputId": "fd814861-3a55-4160-9cf1-4dd4ed28f3e1"
            },
            "outputs": [
                {
                    "output_type": "display_data",
                    "data": {
                        "text/plain": [
                            "<Figure size 640x480 with 1 Axes>"
                        ],
                        "image/png": "[encoded data removed]"
                    },
                    "metadata": {}
                }
            ],
            "source": [
                "plt.hist(labels_mt, bins=10, alpha=0.7, color='blue')\n",
                "plt.title('Histogram of pred_tr values')\n",
                "plt.xlabel('Value')\n",
                "plt.ylabel('Frequency')\n",
                "plt.show()"
            ]
        },
        {
            "cell_type": "code",
            "execution_count": null,
            "metadata": {
                "colab": {
                    "base_uri": "https://localhost:8080/",
                    "height": 472
                },
                "id": "1D5780OxnMd2",
                "outputId": "bba9cc0f-dfe7-4e2c-a187-a32dfb999628"
            },
            "outputs": [
                {
                    "output_type": "display_data",
                    "data": {
                        "text/plain": [
                            "<Figure size 640x480 with 1 Axes>"
                        ],
                        "image/png": "[encoded data removed]"
                    },
                    "metadata": {}
                }
            ],
            "source": [
                "plt.hist(labels_dm, bins=10, alpha=0.7, color='blue')\n",
                "plt.title('Histogram of pred_tr values')\n",
                "plt.xlabel('Value')\n",
                "plt.ylabel('Frequency')\n",
                "plt.show()"
            ]
        },
        {
            "cell_type": "code",
            "execution_count": null,
            "metadata": {
                "id": "k9SMdwczOH_X"
            },
            "outputs": [],
            "source": [
                "model = CrossEncoder('cross-encoder/stsb-roberta-large')"
            ]
        },
        {
            "cell_type": "code",
            "execution_count": null,
            "metadata": {
                "id": "3-fAkR8rlUzY"
            },
            "outputs": [],
            "source": [
                "def predicto(sentences):\n",
                "  pred_tr = (model.predict(sentences))\n",
                "  plt.hist(pred_tr, bins=1000, alpha=0.7, color='blue')\n",
                "  plt.title('Histogram of pred_tr values')\n",
                "  plt.xlabel('Value')\n",
                "  plt.ylabel('Frequency')\n",
                "  plt.show()\n",
                "  return pred_tr"
            ]
        },
        {
            "cell_type": "code",
            "execution_count": null,
            "metadata": {
                "colab": {
                    "base_uri": "https://localhost:8080/",
                    "height": 472
                },
                "id": "NfYnhn37mYUq",
                "outputId": "7c9ef7f4-05c2-4e66-977a-3339290ad093"
            },
            "outputs": [
                {
                    "output_type": "display_data",
                    "data": {
                        "text/plain": [
                            "<Figure size 640x480 with 1 Axes>"
                        ],
                        "image/png": "[encoded data removed]"
                    },
                    "metadata": {}
                }
            ],
            "source": [
                "pred_pg = predicto(sentences_pg1)"
            ]
        },
        {
            "cell_type": "code",
            "execution_count": null,
            "metadata": {
                "colab": {
                    "base_uri": "https://localhost:8080/",
                    "height": 472
                },
                "id": "ikjn2aeUmKbP",
                "outputId": "4e787082-ed30-4598-e5a4-36bda211ea10"
            },
            "outputs": [
                {
                    "output_type": "display_data",
                    "data": {
                        "text/plain": [
                            "<Figure size 640x480 with 1 Axes>"
                        ],
                        "image/png": "[encoded data removed]"
                    },
                    "metadata": {}
                }
            ],
            "source": [
                "pred_mt = predicto(sentences_mt1)"
            ]
        },
        {
            "cell_type": "code",
            "execution_count": null,
            "metadata": {
                "id": "UeSxdnUimLif",
                "colab": {
                    "base_uri": "https://localhost:8080/",
                    "height": 472
                },
                "outputId": "8389c180-e170-49fd-f75a-8c4ae59a285d"
            },
            "outputs": [
                {
                    "output_type": "display_data",
                    "data": {
                        "text/plain": [
                            "<Figure size 640x480 with 1 Axes>"
                        ],
                        "image/png": "[encoded data removed]"
                    },
                    "metadata": {}
                }
            ],
            "source": [
                "pred_dm = predicto(sentences_dm1)"
            ]
        },
        {
            "cell_type": "code",
            "execution_count": null,
            "metadata": {
                "id": "MsRMe2UYpDWj"
            },
            "outputs": [],
            "source": [
                "labeled_pg1 = [{'texts': sentences_pg1[ind], 'label': pred_pg[ind]} for ind in range(len(pred_pg))]\n",
                "labeled_mt1 = [{'texts': sentences_mt1[ind], 'label': pred_mt[ind]} for ind in range(len(pred_mt))]\n",
                "labeled_dm1 = [{'texts': sentences_dm1[ind], 'label': pred_dm[ind]} for ind in range(len(pred_dm))]"
            ]
        },
        {
            "cell_type": "code",
            "execution_count": null,
            "metadata": {
                "id": "rw40PTXjq0vm"
            },
            "outputs": [],
            "source": [
                "tr_pg = labeled_pg1.copy()\n",
                "tr_mt = labeled_mt1.copy()\n",
                "tr_dm = labeled_dm1.copy()"
            ]
        },
        {
            "cell_type": "code",
            "source": [
                "n = len(tr_pg)"
            ],
            "metadata": {
                "id": "_U6XXMQgYHu7"
            },
            "execution_count": null,
            "outputs": []
        },
        {
            "cell_type": "code",
            "execution_count": null,
            "metadata": {
                "id": "J2edv7Z_6K7R"
            },
            "outputs": [],
            "source": [
                "pg_tr = tr_pg[:int(n*0.9)]\n",
                "pg_dev = tr_pg[int(n*0.9):]\n",
                "mt_tr = tr_mt[:int(n*0.9)]\n",
                "mt_dev = tr_mt[int(n*0.9):]\n",
                "dm_tr = tr_dm[:int(n*0.9)]\n",
                "dm_dev = tr_dm[int(n*0.9):]"
            ]
        },
        {
            "cell_type": "code",
            "execution_count": null,
            "metadata": {
                "id": "yPya4ZFGNarY"
            },
            "outputs": [],
            "source": [
                "train_samples_pg = [InputExample(texts= item[\"texts\"], label=item[\"label\"]) for item in pg_tr]\n",
                "dev_samples_pg = [InputExample(texts= item[\"texts\"], label=item[\"label\"]) for item in pg_dev]\n",
                "test_samples_pg = [InputExample(texts = sentence, label = label) for sentence, label in zip(sentences_pg,labels_pg)]"
            ]
        },
        {
            "cell_type": "code",
            "execution_count": null,
            "metadata": {
                "colab": {
                    "base_uri": "https://localhost:8080/"
                },
                "outputId": "30288b8a-dc66-43e5-b369-b556bb19dcff",
                "id": "Vx14cEmiZ2Fc"
            },
            "outputs": [
                {
                    "output_type": "execute_result",
                    "data": {
                        "text/plain": [
                            "{'mse': 0.07766532543594602,\n",
                            " 'acc': 0.7644787644787645,\n",
                            " 'spearman': 0.4885076367036571,\n",
                            " 'max_acc': (0.7683397683397684, 0.525)}"
                        ]
                    },
                    "metadata": {},
                    "execution_count": 51
                }
            ],
            "source": [
                "modello = CrossEncoder('cross-encoder/stsb-roberta-large')\n",
                "cross_encoder(modello, sentences_pg, labels_pg)"
            ]
        },
        {
            "cell_type": "code",
            "source": [
                "#Define our Cross-Encoder\n",
                "train_batch_size = 8\n",
                "\n",
                "num_epochs = 1\n",
                "model_save_path_pg = 'training-'+datetime.now().strftime(\"%Y-%m-%d_%H-%M-%S\")\n",
                "\n",
                "\n",
                "#### Just some code to print debug information to stdout\n",
                "logging.basicConfig(format='%(asctime)s - %(message)s',\n",
                "                    datefmt='%Y-%m-%d %H:%M:%S',\n",
                "                    level=logging.INFO,\n",
                "                    handlers=[LoggingHandler()])\n",
                "logger = logging.getLogger(__name__)\n",
                "#### /print debug information to stdout\n",
                "\n",
                "#We use distilroberta-base as base model and set num_labels=1, which predicts a continous score between 0 and 1\n",
                "model = CrossEncoder('cross-encoder/stsb-roberta-large', num_labels = 1)\n",
                "\n",
                "# We wrap train_samples (which is a List[InputExample]) into a pytorch DataLoader\n",
                "train_dataloader = DataLoader(train_samples_pg, shuffle=True, batch_size=train_batch_size)\n",
                "\n",
                "#MIRROR TRAINING EXAMPLES\n",
                "\n",
                "\n",
                "# We add an evaluator, which evaluates the performance during training\n",
                "evaluator = CECorrelationEvaluator.from_input_examples(dev_samples_pg, name='hal-dev')\n",
                "\n",
                "\n",
                "# Configure the training\n",
                "warmup_steps = math.ceil(len(train_dataloader) * num_epochs * 0.1) #10% of train data for warm-up\n",
                "logger.info(\"Warmup-steps: {}\".format(warmup_steps))\n",
                "\n",
                "\n",
                "# Train the model\n",
                "model.fit(train_dataloader=train_dataloader,\n",
                "          evaluator=evaluator,\n",
                "          epochs=num_epochs,\n",
                "          warmup_steps=warmup_steps,\n",
                "          output_path=model_save_path_pg)\n",
                "\n",
                "\n",
                "##### Load model and eval on test set\n",
                "model = CrossEncoder(model_save_path_pg)\n",
                "\n",
                "evaluator = CECorrelationEvaluator.from_input_examples(test_samples_pg, name='sts-test')\n",
                "evaluator(model)"
            ],
            "metadata": {
                "colab": {
                    "base_uri": "https://localhost:8080/",
                    "height": 98,
                    "referenced_widgets": [
                        "aca356fd8f9d4cef9d6ed57cea0c3334",
                        "4199520e14194ca6af38657748ef9bd0",
                        "a6a55f80dccf495eb88d77a2d6ba2af2",
                        "3b2c752afc03483aa912df9b348a2dca",
                        "1ff3a28b35c54104a6cc1b044f488486",
                        "f552feba7e9c4b0c92e544b1421a1ceb",
                        "f1967bfb95794632aa51d6ec3d4d6628",
                        "d640eef00eff44af96a69437538b7d80",
                        "1d74092abb2843719b66679e009e95cb",
                        "6534b610195f47448b12e7a264b4b0f9",
                        "8c4692aa5f2d4a4da8e4fcb79b2f691f",
                        "27721a0d138a43158705fd40be7ec511",
                        "24410541f90f41e28bed94d3cc4493ac",
                        "b0ad26ede6c241ea9625bd4821223a39",
                        "8be72627fa1e4ca08ea0586eebfb4666",
                        "32d3565e26da4e479eaeeba41c6bfcc7",
                        "2490af058dee4f7d9495ca6d2529c746",
                        "d6a0fcdc6c28434a8ab90aac47f9c66f",
                        "c3506d72848f43769553699a387b2b61",
                        "f027fe5e99b54ba385f0e638becdfbe2",
                        "da2844679deb4a698448ae6018bd1167",
                        "716a923109a147f3b96018b243c74e01"
                    ]
                },
                "id": "BenFQEFuZHka",
                "outputId": "1bf43297-7b1c-4a33-fc81-df1f6efa2ae0"
            },
            "execution_count": null,
            "outputs": [
                {
                    "output_type": "display_data",
                    "data": {
                        "text/plain": [
                            "Epoch:   0%|          | 0/1 [00:00<?, ?it/s]"
                        ],
                        "application/vnd.jupyter.widget-view+json": {
                            "version_major": 2,
                            "version_minor": 0,
                            "model_id": "aca356fd8f9d4cef9d6ed57cea0c3334"
                        }
                    },
                    "metadata": {}
                },
                {
                    "output_type": "display_data",
                    "data": {
                        "text/plain": [
                            "Iteration:   0%|          | 0/1125 [00:00<?, ?it/s]"
                        ],
                        "application/vnd.jupyter.widget-view+json": {
                            "version_major": 2,
                            "version_minor": 0,
                            "model_id": "27721a0d138a43158705fd40be7ec511"
                        }
                    },
                    "metadata": {}
                },
                {
                    "output_type": "execute_result",
                    "data": {
                        "text/plain": [
                            "0.4419313921562026"
                        ]
                    },
                    "metadata": {},
                    "execution_count": 53
                }
            ]
        },
        {
            "cell_type": "code",
            "source": [
                "cross_encoder(model, sentences_pg, labels_pg)"
            ],
            "metadata": {
                "colab": {
                    "base_uri": "https://localhost:8080/"
                },
                "id": "lhgvE3tKjMJ2",
                "outputId": "47f32253-b697-4a63-d9b7-1fde09cb8c07"
            },
            "execution_count": null,
            "outputs": [
                {
                    "output_type": "execute_result",
                    "data": {
                        "text/plain": [
                            "{'mse': 0.08783010331049161,\n",
                            " 'acc': 0.7606177606177607,\n",
                            " 'spearman': 0.44193139215620253,\n",
                            " 'max_acc': (0.7606177606177607, 0.5)}"
                        ]
                    },
                    "metadata": {},
                    "execution_count": 54
                }
            ]
        },
        {
            "cell_type": "code",
            "source": [
                "train_samples_mt = [InputExample(texts= item[\"texts\"], label=item[\"label\"]) for item in mt_tr]\n",
                "dev_samples_mt = [InputExample(texts= item[\"texts\"], label=item[\"label\"]) for item in mt_dev]\n",
                "test_samples_mt = [InputExample(texts = sentence, label = label) for sentence, label in zip(sentences_mt,labels_mt)]"
            ],
            "metadata": {
                "id": "GinGMPo4YoNU"
            },
            "execution_count": null,
            "outputs": []
        },
        {
            "cell_type": "code",
            "source": [
                "modello = CrossEncoder('cross-encoder/stsb-roberta-large')\n",
                "cross_encoder(modello, sentences_mt, labels_mt)"
            ],
            "metadata": {
                "colab": {
                    "base_uri": "https://localhost:8080/"
                },
                "id": "j-KP52o6fg0a",
                "outputId": "af207d82-1c86-4a3c-938f-568007219f9d"
            },
            "execution_count": null,
            "outputs": [
                {
                    "output_type": "execute_result",
                    "data": {
                        "text/plain": [
                            "{'mse': 0.09138854570433415,\n",
                            " 'acc': 0.7317073170731707,\n",
                            " 'spearman': 0.7641790865361489,\n",
                            " 'max_acc': (0.8170731707317073, 0.7640625000000008)}"
                        ]
                    },
                    "metadata": {},
                    "execution_count": 43
                }
            ]
        },
        {
            "cell_type": "code",
            "source": [
                "#Define our Cross-Encoder\n",
                "train_batch_size = 8\n",
                "\n",
                "num_epochs = 1\n",
                "model_save_path_mt = 'training-'+datetime.now().strftime(\"%Y-%m-%d_%H-%M-%S\")\n",
                "\n",
                "\n",
                "#### Just some code to print debug information to stdout\n",
                "logging.basicConfig(format='%(asctime)s - %(message)s',\n",
                "                    datefmt='%Y-%m-%d %H:%M:%S',\n",
                "                    level=logging.INFO,\n",
                "                    handlers=[LoggingHandler()])\n",
                "logger = logging.getLogger(__name__)\n",
                "#### /print debug information to stdout\n",
                "\n",
                "#We use distilroberta-base as base model and set num_labels=1, which predicts a continous score between 0 and 1\n",
                "model = CrossEncoder('cross-encoder/stsb-roberta-large', num_labels = 1)\n",
                "\n",
                "# We wrap train_samples (which is a List[InputExample]) into a pytorch DataLoader\n",
                "train_dataloader = DataLoader(train_samples_mt, shuffle=True, batch_size=train_batch_size)\n",
                "\n",
                "#MIRROR TRAINING EXAMPLES\n",
                "\n",
                "\n",
                "# We add an evaluator, which evaluates the performance during training\n",
                "evaluator = CECorrelationEvaluator.from_input_examples(dev_samples_mt, name='hal-dev')\n",
                "\n",
                "\n",
                "# Configure the training\n",
                "warmup_steps = math.ceil(len(train_dataloader) * num_epochs * 0.1) #10% of train data for warm-up\n",
                "logger.info(\"Warmup-steps: {}\".format(warmup_steps))\n",
                "\n",
                "\n",
                "# Train the model\n",
                "model.fit(train_dataloader=train_dataloader,\n",
                "          evaluator=evaluator,\n",
                "          epochs=num_epochs,\n",
                "          warmup_steps=warmup_steps,\n",
                "          output_path=model_save_path_mt)\n",
                "\n",
                "\n",
                "##### Load model and eval on test set\n",
                "model = CrossEncoder(model_save_path_mt)\n",
                "\n",
                "evaluator = CECorrelationEvaluator.from_input_examples(test_samples_mt, name='sts-test')\n",
                "evaluator(model)"
            ],
            "metadata": {
                "colab": {
                    "base_uri": "https://localhost:8080/",
                    "height": 98,
                    "referenced_widgets": [
                        "d9bd65a648bc4ac9aacf2dd07d50f246",
                        "c11b301365714ba7894c5a7d5a422146",
                        "8b0554752a4b4430a25d570bdf74a602",
                        "c366b26449c44ec98b5a66ff39490e8f",
                        "65892053202246ab8d67b5906bdac00f",
                        "3a90cec15fc147e89de3a47497aabde4",
                        "d1e5083f125d4c9c9fce76a6acf1c55c",
                        "1f1bfebca58a4ecf8a99c9b2b980bc3f",
                        "26527eacd4a746dc897bcb82c1885252",
                        "3158ad5b654548ad97ca40ab56878afe",
                        "ea1b412fa52d4dbcbea053dcca988ef0",
                        "090dabee02af4ce682ef75101791c3be",
                        "f5206a056890412ea9ad4f205473d139",
                        "b63ee4443ada4e7bb1e3f65264ebf61d",
                        "8a3393c9d47040679bafd72a3de4e30a",
                        "17baf01d09654c40acfa7a7edcac87bb",
                        "df14c70a706b4504ad5a48a47d9ce730",
                        "7c7fd2824f604e0482b86ee5a6e7c7dd",
                        "156da110de8d48cebe3023bb81dbb2e0",
                        "5770cc07a8214cd09031088531b3d1f9",
                        "5c3e8b4081be4d1e9da4a342b21ad07f",
                        "59ee9666ab5c4c8fa2eb8853340b67f2"
                    ]
                },
                "id": "P0OQRKDaZeGs",
                "outputId": "419d3957-0a92-49ad-9bcc-715efa433e2b"
            },
            "execution_count": null,
            "outputs": [
                {
                    "output_type": "display_data",
                    "data": {
                        "text/plain": [
                            "Epoch:   0%|          | 0/1 [00:00<?, ?it/s]"
                        ],
                        "application/vnd.jupyter.widget-view+json": {
                            "version_major": 2,
                            "version_minor": 0,
                            "model_id": "d9bd65a648bc4ac9aacf2dd07d50f246"
                        }
                    },
                    "metadata": {}
                },
                {
                    "output_type": "display_data",
                    "data": {
                        "text/plain": [
                            "Iteration:   0%|          | 0/1125 [00:00<?, ?it/s]"
                        ],
                        "application/vnd.jupyter.widget-view+json": {
                            "version_major": 2,
                            "version_minor": 0,
                            "model_id": "090dabee02af4ce682ef75101791c3be"
                        }
                    },
                    "metadata": {}
                },
                {
                    "output_type": "execute_result",
                    "data": {
                        "text/plain": [
                            "0.7561545806443966"
                        ]
                    },
                    "metadata": {},
                    "execution_count": 44
                }
            ]
        },
        {
            "cell_type": "code",
            "source": [
                "cross_encoder(model, sentences_mt, labels_mt)"
            ],
            "metadata": {
                "id": "75qfbtTyjQTo",
                "colab": {
                    "base_uri": "https://localhost:8080/"
                },
                "outputId": "16bd15bd-98c1-485b-b1fa-3f416ba4c91d"
            },
            "execution_count": null,
            "outputs": [
                {
                    "output_type": "execute_result",
                    "data": {
                        "text/plain": [
                            "{'mse': 0.1100970974047119,\n",
                            " 'acc': 0.6853658536585366,\n",
                            " 'spearman': 0.7561545806443966,\n",
                            " 'max_acc': (0.8048780487804879, 0.8242187500000009)}"
                        ]
                    },
                    "metadata": {},
                    "execution_count": 45
                }
            ]
        },
        {
            "cell_type": "code",
            "source": [
                "train_samples_dm = [InputExample(texts= item[\"texts\"], label=item[\"label\"]) for item in dm_tr]\n",
                "dev_samples_dm = [InputExample(texts= item[\"texts\"], label=item[\"label\"]) for item in dm_dev]\n",
                "test_samples_dm = [InputExample(texts = sentence, label = label) for sentence, label in zip(sentences_dm,labels_dm)]"
            ],
            "metadata": {
                "id": "u3FKqNy1YooV"
            },
            "execution_count": null,
            "outputs": []
        },
        {
            "cell_type": "code",
            "source": [
                "modello = CrossEncoder('cross-encoder/stsb-roberta-large')\n",
                "cross_encoder(modello, sentences_dm, labels_dm)"
            ],
            "metadata": {
                "id": "d9Ouy5R1funo"
            },
            "execution_count": null,
            "outputs": []
        },
        {
            "cell_type": "code",
            "source": [
                "#Define our Cross-Encoder\n",
                "train_batch_size = 8\n",
                "\n",
                "num_epochs = 1\n",
                "model_save_path_dm = 'training-'+datetime.now().strftime(\"%Y-%m-%d_%H-%M-%S\")\n",
                "\n",
                "\n",
                "#### Just some code to print debug information to stdout\n",
                "logging.basicConfig(format='%(asctime)s - %(message)s',\n",
                "                    datefmt='%Y-%m-%d %H:%M:%S',\n",
                "                    level=logging.INFO,\n",
                "                    handlers=[LoggingHandler()])\n",
                "logger = logging.getLogger(__name__)\n",
                "#### /print debug information to stdout\n",
                "\n",
                "#We use distilroberta-base as base model and set num_labels=1, which predicts a continous score between 0 and 1\n",
                "model = CrossEncoder('cross-encoder/stsb-roberta-large', num_labels = 1)\n",
                "\n",
                "# We wrap train_samples (which is a List[InputExample]) into a pytorch DataLoader\n",
                "train_dataloader = DataLoader(train_samples_dm, shuffle=True, batch_size=train_batch_size)\n",
                "\n",
                "#MIRROR TRAINING EXAMPLES\n",
                "\n",
                "\n",
                "# We add an evaluator, which evaluates the performance during training\n",
                "evaluator = CECorrelationEvaluator.from_input_examples(dev_samples_dm, name='hal-dev')\n",
                "\n",
                "\n",
                "# Configure the training\n",
                "warmup_steps = math.ceil(len(train_dataloader) * num_epochs * 0.1) #10% of train data for warm-up\n",
                "logger.info(\"Warmup-steps: {}\".format(warmup_steps))\n",
                "\n",
                "\n",
                "# Train the model\n",
                "model.fit(train_dataloader=train_dataloader,\n",
                "          evaluator=evaluator,\n",
                "          epochs=num_epochs,\n",
                "          warmup_steps=warmup_steps,\n",
                "          output_path=model_save_path_dm)\n",
                "\n",
                "\n",
                "##### Load model and eval on test set\n",
                "model = CrossEncoder(model_save_path_dm)\n",
                "\n",
                "evaluator = CECorrelationEvaluator.from_input_examples(test_samples_dm, name='sts-test')\n",
                "evaluator(model)"
            ],
            "metadata": {
                "id": "ikdWw6EcZnWJ"
            },
            "execution_count": null,
            "outputs": []
        },
        {
            "cell_type": "code",
            "source": [
                "cross_encoder(model, sentences_dm, labels_dm)"
            ],
            "metadata": {
                "id": "bCVDOnOSjapc"
            },
            "execution_count": null,
            "outputs": []
        },
        {
            "cell_type": "code",
            "execution_count": null,
            "metadata": {
                "id": "Jx3IMkDACuKt"
            },
            "outputs": [],
            "source": [
                "evaluator = CECorrelationEvaluator.from_input_examples(test_samples, name='sts-test')\n",
                "modello = CrossEncoder('cross-encoder/stsb-roberta-large')\n",
                "evaluator(modello)"
            ]
        },
        {
            "cell_type": "code",
            "execution_count": null,
            "metadata": {
                "id": "l9M6qWSyUE5B"
            },
            "outputs": [],
            "source": [
                "model = CrossEncoder(model_save_path)"
            ]
        },
        {
            "cell_type": "code",
            "execution_count": null,
            "metadata": {
                "colab": {
                    "base_uri": "https://localhost:8080/"
                },
                "id": "XmyxIvfBEaR4",
                "outputId": "5360ffa2-d514-4d27-e40b-f4981df002fc"
            },
            "outputs": [
                {
                    "data": {
                        "text/plain": [
                            "{'mse': 0.08674911423289991,\n",
                            " 'acc': 0.7425925925925926,\n",
                            " 'spearman': 0.6853481703496629,\n",
                            " 'max_acc': (0.7805555555555556, 0.6625000000000003)}"
                        ]
                    },
                    "execution_count": 40,
                    "metadata": {},
                    "output_type": "execute_result"
                }
            ],
            "source": [
                "cross_encoder(sentences, labels)"
            ]
        }
    ],
    "metadata": {
        "accelerator": "GPU",
        "colab": {
            "provenance": []
        },
        "kernelspec": {
            "display_name": "Python 3",
            "name": "python3"
        },
        "language_info": {
            "name": "python"
        },
        "4199520e14194ca6af38657748ef9bd0": {
            "model_module": "@jupyter-widgets/controls",
            "model_name": "HTMLModel",
            "model_module_version": "1.5.0",
            "state": {
                "_dom_classes": [],
                "_model_module": "@jupyter-widgets/controls",
                "_model_module_version": "1.5.0",
                "_model_name": "HTMLModel",
                "_view_count": null,
                "_view_module": "@jupyter-widgets/controls",
                "_view_module_version": "1.5.0",
                "_view_name": "HTMLView",
                "description": "",
                "description_tooltip": null,
                "layout": "IPY_MODEL_f552feba7e9c4b0c92e544b1421a1ceb",
                "placeholder": "​",
                "style": "IPY_MODEL_f1967bfb95794632aa51d6ec3d4d6628",
                "value": "Epoch: 100%"
            }
        },
        "a6a55f80dccf495eb88d77a2d6ba2af2": {
            "model_module": "@jupyter-widgets/controls",
            "model_name": "FloatProgressModel",
            "model_module_version": "1.5.0",
            "state": {
                "_dom_classes": [],
                "_model_module": "@jupyter-widgets/controls",
                "_model_module_version": "1.5.0",
                "_model_name": "FloatProgressModel",
                "_view_count": null,
                "_view_module": "@jupyter-widgets/controls",
                "_view_module_version": "1.5.0",
                "_view_name": "ProgressView",
                "bar_style": "success",
                "description": "",
                "description_tooltip": null,
                "layout": "IPY_MODEL_d640eef00eff44af96a69437538b7d80",
                "max": 1,
                "min": 0,
                "orientation": "horizontal",
                "style": "IPY_MODEL_1d74092abb2843719b66679e009e95cb",
                "value": 1
            }
        },
        "3b2c752afc03483aa912df9b348a2dca": {
            "model_module": "@jupyter-widgets/controls",
            "model_name": "HTMLModel",
            "model_module_version": "1.5.0",
            "state": {
                "_dom_classes": [],
                "_model_module": "@jupyter-widgets/controls",
                "_model_module_version": "1.5.0",
                "_model_name": "HTMLModel",
                "_view_count": null,
                "_view_module": "@jupyter-widgets/controls",
                "_view_module_version": "1.5.0",
                "_view_name": "HTMLView",
                "description": "",
                "description_tooltip": null,
                "layout": "IPY_MODEL_6534b610195f47448b12e7a264b4b0f9",
                "placeholder": "​",
                "style": "IPY_MODEL_8c4692aa5f2d4a4da8e4fcb79b2f691f",
                "value": " 1/1 [04:43&lt;00:00, 283.80s/it]"
            }
        },
        "1ff3a28b35c54104a6cc1b044f488486": {
            "model_module": "@jupyter-widgets/base",
            "model_name": "LayoutModel",
            "model_module_version": "1.2.0",
            "state": {
                "_model_module": "@jupyter-widgets/base",
                "_model_module_version": "1.2.0",
                "_model_name": "LayoutModel",
                "_view_count": null,
                "_view_module": "@jupyter-widgets/base",
                "_view_module_version": "1.2.0",
                "_view_name": "LayoutView",
                "align_content": null,
                "align_items": null,
                "align_self": null,
                "border": null,
                "bottom": null,
                "display": null,
                "flex": null,
                "flex_flow": null,
                "grid_area": null,
                "grid_auto_columns": null,
                "grid_auto_flow": null,
                "grid_auto_rows": null,
                "grid_column": null,
                "grid_gap": null,
                "grid_row": null,
                "grid_template_areas": null,
                "grid_template_columns": null,
                "grid_template_rows": null,
                "height": null,
                "justify_content": null,
                "justify_items": null,
                "left": null,
                "margin": null,
                "max_height": null,
                "max_width": null,
                "min_height": null,
                "min_width": null,
                "object_fit": null,
                "object_position": null,
                "order": null,
                "overflow": null,
                "overflow_x": null,
                "overflow_y": null,
                "padding": null,
                "right": null,
                "top": null,
                "visibility": null,
                "width": null
            }
        },
        "f552feba7e9c4b0c92e544b1421a1ceb": {
            "model_module": "@jupyter-widgets/base",
            "model_name": "LayoutModel",
            "model_module_version": "1.2.0",
            "state": {
                "_model_module": "@jupyter-widgets/base",
                "_model_module_version": "1.2.0",
                "_model_name": "LayoutModel",
                "_view_count": null,
                "_view_module": "@jupyter-widgets/base",
                "_view_module_version": "1.2.0",
                "_view_name": "LayoutView",
                "align_content": null,
                "align_items": null,
                "align_self": null,
                "border": null,
                "bottom": null,
                "display": null,
                "flex": null,
                "flex_flow": null,
                "grid_area": null,
                "grid_auto_columns": null,
                "grid_auto_flow": null,
                "grid_auto_rows": null,
                "grid_column": null,
                "grid_gap": null,
                "grid_row": null,
                "grid_template_areas": null,
                "grid_template_columns": null,
                "grid_template_rows": null,
                "height": null,
                "justify_content": null,
                "justify_items": null,
                "left": null,
                "margin": null,
                "max_height": null,
                "max_width": null,
                "min_height": null,
                "min_width": null,
                "object_fit": null,
                "object_position": null,
                "order": null,
                "overflow": null,
                "overflow_x": null,
                "overflow_y": null,
                "padding": null,
                "right": null,
                "top": null,
                "visibility": null,
                "width": null
            }
        },
        "f1967bfb95794632aa51d6ec3d4d6628": {
            "model_module": "@jupyter-widgets/controls",
            "model_name": "DescriptionStyleModel",
            "model_module_version": "1.5.0",
            "state": {
                "_model_module": "@jupyter-widgets/controls",
                "_model_module_version": "1.5.0",
                "_model_name": "DescriptionStyleModel",
                "_view_count": null,
                "_view_module": "@jupyter-widgets/base",
                "_view_module_version": "1.2.0",
                "_view_name": "StyleView",
                "description_width": ""
            }
        },
        "d640eef00eff44af96a69437538b7d80": {
            "model_module": "@jupyter-widgets/base",
            "model_name": "LayoutModel",
            "model_module_version": "1.2.0",
            "state": {
                "_model_module": "@jupyter-widgets/base",
                "_model_module_version": "1.2.0",
                "_model_name": "LayoutModel",
                "_view_count": null,
                "_view_module": "@jupyter-widgets/base",
                "_view_module_version": "1.2.0",
                "_view_name": "LayoutView",
                "align_content": null,
                "align_items": null,
                "align_self": null,
                "border": null,
                "bottom": null,
                "display": null,
                "flex": null,
                "flex_flow": null,
                "grid_area": null,
                "grid_auto_columns": null,
                "grid_auto_flow": null,
                "grid_auto_rows": null,
                "grid_column": null,
                "grid_gap": null,
                "grid_row": null,
                "grid_template_areas": null,
                "grid_template_columns": null,
                "grid_template_rows": null,
                "height": null,
                "justify_content": null,
                "justify_items": null,
                "left": null,
                "margin": null,
                "max_height": null,
                "max_width": null,
                "min_height": null,
                "min_width": null,
                "object_fit": null,
                "object_position": null,
                "order": null,
                "overflow": null,
                "overflow_x": null,
                "overflow_y": null,
                "padding": null,
                "right": null,
                "top": null,
                "visibility": null,
                "width": null
            }
        },
        "1d74092abb2843719b66679e009e95cb": {
            "model_module": "@jupyter-widgets/controls",
            "model_name": "ProgressStyleModel",
            "model_module_version": "1.5.0",
            "state": {
                "_model_module": "@jupyter-widgets/controls",
                "_model_module_version": "1.5.0",
                "_model_name": "ProgressStyleModel",
                "_view_count": null,
                "_view_module": "@jupyter-widgets/base",
                "_view_module_version": "1.2.0",
                "_view_name": "StyleView",
                "bar_color": null,
                "description_width": ""
            }
        },
        "6534b610195f47448b12e7a264b4b0f9": {
            "model_module": "@jupyter-widgets/base",
            "model_name": "LayoutModel",
            "model_module_version": "1.2.0",
            "state": {
                "_model_module": "@jupyter-widgets/base",
                "_model_module_version": "1.2.0",
                "_model_name": "LayoutModel",
                "_view_count": null,
                "_view_module": "@jupyter-widgets/base",
                "_view_module_version": "1.2.0",
                "_view_name": "LayoutView",
                "align_content": null,
                "align_items": null,
                "align_self": null,
                "border": null,
                "bottom": null,
                "display": null,
                "flex": null,
                "flex_flow": null,
                "grid_area": null,
                "grid_auto_columns": null,
                "grid_auto_flow": null,
                "grid_auto_rows": null,
                "grid_column": null,
                "grid_gap": null,
                "grid_row": null,
                "grid_template_areas": null,
                "grid_template_columns": null,
                "grid_template_rows": null,
                "height": null,
                "justify_content": null,
                "justify_items": null,
                "left": null,
                "margin": null,
                "max_height": null,
                "max_width": null,
                "min_height": null,
                "min_width": null,
                "object_fit": null,
                "object_position": null,
                "order": null,
                "overflow": null,
                "overflow_x": null,
                "overflow_y": null,
                "padding": null,
                "right": null,
                "top": null,
                "visibility": null,
                "width": null
            }
        },
        "8c4692aa5f2d4a4da8e4fcb79b2f691f": {
            "model_module": "@jupyter-widgets/controls",
            "model_name": "DescriptionStyleModel",
            "model_module_version": "1.5.0",
            "state": {
                "_model_module": "@jupyter-widgets/controls",
                "_model_module_version": "1.5.0",
                "_model_name": "DescriptionStyleModel",
                "_view_count": null,
                "_view_module": "@jupyter-widgets/base",
                "_view_module_version": "1.2.0",
                "_view_name": "StyleView",
                "description_width": ""
            }
        },
        "27721a0d138a43158705fd40be7ec511": {
            "model_module": "@jupyter-widgets/controls",
            "model_name": "HBoxModel",
            "model_module_version": "1.5.0",
            "state": {
                "_dom_classes": [],
                "_model_module": "@jupyter-widgets/controls",
                "_model_module_version": "1.5.0",
                "_model_name": "HBoxModel",
                "_view_count": null,
                "_view_module": "@jupyter-widgets/controls",
                "_view_module_version": "1.5.0",
                "_view_name": "HBoxView",
                "box_style": "",
                "children": [
                    "IPY_MODEL_24410541f90f41e28bed94d3cc4493ac",
                    "IPY_MODEL_b0ad26ede6c241ea9625bd4821223a39",
                    "IPY_MODEL_8be72627fa1e4ca08ea0586eebfb4666"
                ],
                "layout": "IPY_MODEL_32d3565e26da4e479eaeeba41c6bfcc7"
            }
        },
        "24410541f90f41e28bed94d3cc4493ac": {
            "model_module": "@jupyter-widgets/controls",
            "model_name": "HTMLModel",
            "model_module_version": "1.5.0",
            "state": {
                "_dom_classes": [],
                "_model_module": "@jupyter-widgets/controls",
                "_model_module_version": "1.5.0",
                "_model_name": "HTMLModel",
                "_view_count": null,
                "_view_module": "@jupyter-widgets/controls",
                "_view_module_version": "1.5.0",
                "_view_name": "HTMLView",
                "description": "",
                "description_tooltip": null,
                "layout": "IPY_MODEL_2490af058dee4f7d9495ca6d2529c746",
                "placeholder": "​",
                "style": "IPY_MODEL_d6a0fcdc6c28434a8ab90aac47f9c66f",
                "value": "Iteration: 100%"
            }
        },
        "b0ad26ede6c241ea9625bd4821223a39": {
            "model_module": "@jupyter-widgets/controls",
            "model_name": "FloatProgressModel",
            "model_module_version": "1.5.0",
            "state": {
                "_dom_classes": [],
                "_model_module": "@jupyter-widgets/controls",
                "_model_module_version": "1.5.0",
                "_model_name": "FloatProgressModel",
                "_view_count": null,
                "_view_module": "@jupyter-widgets/controls",
                "_view_module_version": "1.5.0",
                "_view_name": "ProgressView",
                "bar_style": "success",
                "description": "",
                "description_tooltip": null,
                "layout": "IPY_MODEL_c3506d72848f43769553699a387b2b61",
                "max": 1125,
                "min": 0,
                "orientation": "horizontal",
                "style": "IPY_MODEL_f027fe5e99b54ba385f0e638becdfbe2",
                "value": 1125
            }
        },
        "8be72627fa1e4ca08ea0586eebfb4666": {
            "model_module": "@jupyter-widgets/controls",
            "model_name": "HTMLModel",
            "model_module_version": "1.5.0",
            "state": {
                "_dom_classes": [],
                "_model_module": "@jupyter-widgets/controls",
                "_model_module_version": "1.5.0",
                "_model_name": "HTMLModel",
                "_view_count": null,
                "_view_module": "@jupyter-widgets/controls",
                "_view_module_version": "1.5.0",
                "_view_name": "HTMLView",
                "description": "",
                "description_tooltip": null,
                "layout": "IPY_MODEL_da2844679deb4a698448ae6018bd1167",
                "placeholder": "​",
                "style": "IPY_MODEL_716a923109a147f3b96018b243c74e01",
                "value": " 1125/1125 [04:28&lt;00:00,  4.05it/s]"
            }
        },
        "32d3565e26da4e479eaeeba41c6bfcc7": {
            "model_module": "@jupyter-widgets/base",
            "model_name": "LayoutModel",
            "model_module_version": "1.2.0",
            "state": {
                "_model_module": "@jupyter-widgets/base",
                "_model_module_version": "1.2.0",
                "_model_name": "LayoutModel",
                "_view_count": null,
                "_view_module": "@jupyter-widgets/base",
                "_view_module_version": "1.2.0",
                "_view_name": "LayoutView",
                "align_content": null,
                "align_items": null,
                "align_self": null,
                "border": null,
                "bottom": null,
                "display": null,
                "flex": null,
                "flex_flow": null,
                "grid_area": null,
                "grid_auto_columns": null,
                "grid_auto_flow": null,
                "grid_auto_rows": null,
                "grid_column": null,
                "grid_gap": null,
                "grid_row": null,
                "grid_template_areas": null,
                "grid_template_columns": null,
                "grid_template_rows": null,
                "height": null,
                "justify_content": null,
                "justify_items": null,
                "left": null,
                "margin": null,
                "max_height": null,
                "max_width": null,
                "min_height": null,
                "min_width": null,
                "object_fit": null,
                "object_position": null,
                "order": null,
                "overflow": null,
                "overflow_x": null,
                "overflow_y": null,
                "padding": null,
                "right": null,
                "top": null,
                "visibility": null,
                "width": null
            }
        },
        "2490af058dee4f7d9495ca6d2529c746": {
            "model_module": "@jupyter-widgets/base",
            "model_name": "LayoutModel",
            "model_module_version": "1.2.0",
            "state": {
                "_model_module": "@jupyter-widgets/base",
                "_model_module_version": "1.2.0",
                "_model_name": "LayoutModel",
                "_view_count": null,
                "_view_module": "@jupyter-widgets/base",
                "_view_module_version": "1.2.0",
                "_view_name": "LayoutView",
                "align_content": null,
                "align_items": null,
                "align_self": null,
                "border": null,
                "bottom": null,
                "display": null,
                "flex": null,
                "flex_flow": null,
                "grid_area": null,
                "grid_auto_columns": null,
                "grid_auto_flow": null,
                "grid_auto_rows": null,
                "grid_column": null,
                "grid_gap": null,
                "grid_row": null,
                "grid_template_areas": null,
                "grid_template_columns": null,
                "grid_template_rows": null,
                "height": null,
                "justify_content": null,
                "justify_items": null,
                "left": null,
                "margin": null,
                "max_height": null,
                "max_width": null,
                "min_height": null,
                "min_width": null,
                "object_fit": null,
                "object_position": null,
                "order": null,
                "overflow": null,
                "overflow_x": null,
                "overflow_y": null,
                "padding": null,
                "right": null,
                "top": null,
                "visibility": null,
                "width": null
            }
        },
        "d6a0fcdc6c28434a8ab90aac47f9c66f": {
            "model_module": "@jupyter-widgets/controls",
            "model_name": "DescriptionStyleModel",
            "model_module_version": "1.5.0",
            "state": {
                "_model_module": "@jupyter-widgets/controls",
                "_model_module_version": "1.5.0",
                "_model_name": "DescriptionStyleModel",
                "_view_count": null,
                "_view_module": "@jupyter-widgets/base",
                "_view_module_version": "1.2.0",
                "_view_name": "StyleView",
                "description_width": ""
            }
        },
        "c3506d72848f43769553699a387b2b61": {
            "model_module": "@jupyter-widgets/base",
            "model_name": "LayoutModel",
            "model_module_version": "1.2.0",
            "state": {
                "_model_module": "@jupyter-widgets/base",
                "_model_module_version": "1.2.0",
                "_model_name": "LayoutModel",
                "_view_count": null,
                "_view_module": "@jupyter-widgets/base",
                "_view_module_version": "1.2.0",
                "_view_name": "LayoutView",
                "align_content": null,
                "align_items": null,
                "align_self": null,
                "border": null,
                "bottom": null,
                "display": null,
                "flex": null,
                "flex_flow": null,
                "grid_area": null,
                "grid_auto_columns": null,
                "grid_auto_flow": null,
                "grid_auto_rows": null,
                "grid_column": null,
                "grid_gap": null,
                "grid_row": null,
                "grid_template_areas": null,
                "grid_template_columns": null,
                "grid_template_rows": null,
                "height": null,
                "justify_content": null,
                "justify_items": null,
                "left": null,
                "margin": null,
                "max_height": null,
                "max_width": null,
                "min_height": null,
                "min_width": null,
                "object_fit": null,
                "object_position": null,
                "order": null,
                "overflow": null,
                "overflow_x": null,
                "overflow_y": null,
                "padding": null,
                "right": null,
                "top": null,
                "visibility": null,
                "width": null
            }
        },
        "f027fe5e99b54ba385f0e638becdfbe2": {
            "model_module": "@jupyter-widgets/controls",
            "model_name": "ProgressStyleModel",
            "model_module_version": "1.5.0",
            "state": {
                "_model_module": "@jupyter-widgets/controls",
                "_model_module_version": "1.5.0",
                "_model_name": "ProgressStyleModel",
                "_view_count": null,
                "_view_module": "@jupyter-widgets/base",
                "_view_module_version": "1.2.0",
                "_view_name": "StyleView",
                "bar_color": null,
                "description_width": ""
            }
        },
        "da2844679deb4a698448ae6018bd1167": {
            "model_module": "@jupyter-widgets/base",
            "model_name": "LayoutModel",
            "model_module_version": "1.2.0",
            "state": {
                "_model_module": "@jupyter-widgets/base",
                "_model_module_version": "1.2.0",
                "_model_name": "LayoutModel",
                "_view_count": null,
                "_view_module": "@jupyter-widgets/base",
                "_view_module_version": "1.2.0",
                "_view_name": "LayoutView",
                "align_content": null,
                "align_items": null,
                "align_self": null,
                "border": null,
                "bottom": null,
                "display": null,
                "flex": null,
                "flex_flow": null,
                "grid_area": null,
                "grid_auto_columns": null,
                "grid_auto_flow": null,
                "grid_auto_rows": null,
                "grid_column": null,
                "grid_gap": null,
                "grid_row": null,
                "grid_template_areas": null,
                "grid_template_columns": null,
                "grid_template_rows": null,
                "height": null,
                "justify_content": null,
                "justify_items": null,
                "left": null,
                "margin": null,
                "max_height": null,
                "max_width": null,
                "min_height": null,
                "min_width": null,
                "object_fit": null,
                "object_position": null,
                "order": null,
                "overflow": null,
                "overflow_x": null,
                "overflow_y": null,
                "padding": null,
                "right": null,
                "top": null,
                "visibility": null,
                "width": null
            }
        },
        "716a923109a147f3b96018b243c74e01": {
            "model_module": "@jupyter-widgets/controls",
            "model_name": "DescriptionStyleModel",
            "model_module_version": "1.5.0",
            "state": {
                "_model_module": "@jupyter-widgets/controls",
                "_model_module_version": "1.5.0",
                "_model_name": "DescriptionStyleModel",
                "_view_count": null,
                "_view_module": "@jupyter-widgets/base",
                "_view_module_version": "1.2.0",
                "_view_name": "StyleView",
                "description_width": ""
            }
        },
        "73b79f46a4ac46e185ff526b64123e5f": {
            "model_module": "@jupyter-widgets/controls",
            "model_name": "HBoxModel",
            "model_module_version": "1.5.0",
            "state": {
                "_dom_classes": [],
                "_model_module": "@jupyter-widgets/controls",
                "_model_module_version": "1.5.0",
                "_model_name": "HBoxModel",
                "_view_count": null,
                "_view_module": "@jupyter-widgets/controls",
                "_view_module_version": "1.5.0",
                "_view_name": "HBoxView",
                "box_style": "",
                "children": [
                    "IPY_MODEL_f5047cd2b65344448cfe56fca008eed9",
                    "IPY_MODEL_18faaaf66e83495aa774502de70150ff",
                    "IPY_MODEL_2e09467fb10e4bd29775c0756616b78e"
                ],
                "layout": "IPY_MODEL_65915c59703a4ef88b02c078581f0050"
            }
        },
        "f5047cd2b65344448cfe56fca008eed9": {
            "model_module": "@jupyter-widgets/controls",
            "model_name": "HTMLModel",
            "model_module_version": "1.5.0",
            "state": {
                "_dom_classes": [],
                "_model_module": "@jupyter-widgets/controls",
                "_model_module_version": "1.5.0",
                "_model_name": "HTMLModel",
                "_view_count": null,
                "_view_module": "@jupyter-widgets/controls",
                "_view_module_version": "1.5.0",
                "_view_name": "HTMLView",
                "description": "",
                "description_tooltip": null,
                "layout": "IPY_MODEL_6e3b8f51fe914c98a021bbf213bf8add",
                "placeholder": "​",
                "style": "IPY_MODEL_49daa6939c4b4e4da29f5b3e17c6ba13",
                "value": "config.json: 100%"
            }
        },
        "18faaaf66e83495aa774502de70150ff": {
            "model_module": "@jupyter-widgets/controls",
            "model_name": "FloatProgressModel",
            "model_module_version": "1.5.0",
            "state": {
                "_dom_classes": [],
                "_model_module": "@jupyter-widgets/controls",
                "_model_module_version": "1.5.0",
                "_model_name": "FloatProgressModel",
                "_view_count": null,
                "_view_module": "@jupyter-widgets/controls",
                "_view_module_version": "1.5.0",
                "_view_name": "ProgressView",
                "bar_style": "success",
                "description": "",
                "description_tooltip": null,
                "layout": "IPY_MODEL_8772a7584b6741ae88d41849bb606516",
                "max": 629,
                "min": 0,
                "orientation": "horizontal",
                "style": "IPY_MODEL_a2f283a1dc934a64a63440f4edc3a4ab",
                "value": 629
            }
        },
        "2e09467fb10e4bd29775c0756616b78e": {
            "model_module": "@jupyter-widgets/controls",
            "model_name": "HTMLModel",
            "model_module_version": "1.5.0",
            "state": {
                "_dom_classes": [],
                "_model_module": "@jupyter-widgets/controls",
                "_model_module_version": "1.5.0",
                "_model_name": "HTMLModel",
                "_view_count": null,
                "_view_module": "@jupyter-widgets/controls",
                "_view_module_version": "1.5.0",
                "_view_name": "HTMLView",
                "description": "",
                "description_tooltip": null,
                "layout": "IPY_MODEL_f28bc3eeaccc42aa9146a1cbab5f3ed0",
                "placeholder": "​",
                "style": "IPY_MODEL_5485cef777a84b828ec7dfbbc705786e",
                "value": " 629/629 [00:00&lt;00:00, 16.4kB/s]"
            }
        },
        "65915c59703a4ef88b02c078581f0050": {
            "model_module": "@jupyter-widgets/base",
            "model_name": "LayoutModel",
            "model_module_version": "1.2.0",
            "state": {
                "_model_module": "@jupyter-widgets/base",
                "_model_module_version": "1.2.0",
                "_model_name": "LayoutModel",
                "_view_count": null,
                "_view_module": "@jupyter-widgets/base",
                "_view_module_version": "1.2.0",
                "_view_name": "LayoutView",
                "align_content": null,
                "align_items": null,
                "align_self": null,
                "border": null,
                "bottom": null,
                "display": null,
                "flex": null,
                "flex_flow": null,
                "grid_area": null,
                "grid_auto_columns": null,
                "grid_auto_flow": null,
                "grid_auto_rows": null,
                "grid_column": null,
                "grid_gap": null,
                "grid_row": null,
                "grid_template_areas": null,
                "grid_template_columns": null,
                "grid_template_rows": null,
                "height": null,
                "justify_content": null,
                "justify_items": null,
                "left": null,
                "margin": null,
                "max_height": null,
                "max_width": null,
                "min_height": null,
                "min_width": null,
                "object_fit": null,
                "object_position": null,
                "order": null,
                "overflow": null,
                "overflow_x": null,
                "overflow_y": null,
                "padding": null,
                "right": null,
                "top": null,
                "visibility": null,
                "width": null
            }
        },
        "6e3b8f51fe914c98a021bbf213bf8add": {
            "model_module": "@jupyter-widgets/base",
            "model_name": "LayoutModel",
            "model_module_version": "1.2.0",
            "state": {
                "_model_module": "@jupyter-widgets/base",
                "_model_module_version": "1.2.0",
                "_model_name": "LayoutModel",
                "_view_count": null,
                "_view_module": "@jupyter-widgets/base",
                "_view_module_version": "1.2.0",
                "_view_name": "LayoutView",
                "align_content": null,
                "align_items": null,
                "align_self": null,
                "border": null,
                "bottom": null,
                "display": null,
                "flex": null,
                "flex_flow": null,
                "grid_area": null,
                "grid_auto_columns": null,
                "grid_auto_flow": null,
                "grid_auto_rows": null,
                "grid_column": null,
                "grid_gap": null,
                "grid_row": null,
                "grid_template_areas": null,
                "grid_template_columns": null,
                "grid_template_rows": null,
                "height": null,
                "justify_content": null,
                "justify_items": null,
                "left": null,
                "margin": null,
                "max_height": null,
                "max_width": null,
                "min_height": null,
                "min_width": null,
                "object_fit": null,
                "object_position": null,
                "order": null,
                "overflow": null,
                "overflow_x": null,
                "overflow_y": null,
                "padding": null,
                "right": null,
                "top": null,
                "visibility": null,
                "width": null
            }
        },
        "49daa6939c4b4e4da29f5b3e17c6ba13": {
            "model_module": "@jupyter-widgets/controls",
            "model_name": "DescriptionStyleModel",
            "model_module_version": "1.5.0",
            "state": {
                "_model_module": "@jupyter-widgets/controls",
                "_model_module_version": "1.5.0",
                "_model_name": "DescriptionStyleModel",
                "_view_count": null,
                "_view_module": "@jupyter-widgets/base",
                "_view_module_version": "1.2.0",
                "_view_name": "StyleView",
                "description_width": ""
            }
        },
        "8772a7584b6741ae88d41849bb606516": {
            "model_module": "@jupyter-widgets/base",
            "model_name": "LayoutModel",
            "model_module_version": "1.2.0",
            "state": {
                "_model_module": "@jupyter-widgets/base",
                "_model_module_version": "1.2.0",
                "_model_name": "LayoutModel",
                "_view_count": null,
                "_view_module": "@jupyter-widgets/base",
                "_view_module_version": "1.2.0",
                "_view_name": "LayoutView",
                "align_content": null,
                "align_items": null,
                "align_self": null,
                "border": null,
                "bottom": null,
                "display": null,
                "flex": null,
                "flex_flow": null,
                "grid_area": null,
                "grid_auto_columns": null,
                "grid_auto_flow": null,
                "grid_auto_rows": null,
                "grid_column": null,
                "grid_gap": null,
                "grid_row": null,
                "grid_template_areas": null,
                "grid_template_columns": null,
                "grid_template_rows": null,
                "height": null,
                "justify_content": null,
                "justify_items": null,
                "left": null,
                "margin": null,
                "max_height": null,
                "max_width": null,
                "min_height": null,
                "min_width": null,
                "object_fit": null,
                "object_position": null,
                "order": null,
                "overflow": null,
                "overflow_x": null,
                "overflow_y": null,
                "padding": null,
                "right": null,
                "top": null,
                "visibility": null,
                "width": null
            }
        },
        "a2f283a1dc934a64a63440f4edc3a4ab": {
            "model_module": "@jupyter-widgets/controls",
            "model_name": "ProgressStyleModel",
            "model_module_version": "1.5.0",
            "state": {
                "_model_module": "@jupyter-widgets/controls",
                "_model_module_version": "1.5.0",
                "_model_name": "ProgressStyleModel",
                "_view_count": null,
                "_view_module": "@jupyter-widgets/base",
                "_view_module_version": "1.2.0",
                "_view_name": "StyleView",
                "bar_color": null,
                "description_width": ""
            }
        },
        "f28bc3eeaccc42aa9146a1cbab5f3ed0": {
            "model_module": "@jupyter-widgets/base",
            "model_name": "LayoutModel",
            "model_module_version": "1.2.0",
            "state": {
                "_model_module": "@jupyter-widgets/base",
                "_model_module_version": "1.2.0",
                "_model_name": "LayoutModel",
                "_view_count": null,
                "_view_module": "@jupyter-widgets/base",
                "_view_module_version": "1.2.0",
                "_view_name": "LayoutView",
                "align_content": null,
                "align_items": null,
                "align_self": null,
                "border": null,
                "bottom": null,
                "display": null,
                "flex": null,
                "flex_flow": null,
                "grid_area": null,
                "grid_auto_columns": null,
                "grid_auto_flow": null,
                "grid_auto_rows": null,
                "grid_column": null,
                "grid_gap": null,
                "grid_row": null,
                "grid_template_areas": null,
                "grid_template_columns": null,
                "grid_template_rows": null,
                "height": null,
                "justify_content": null,
                "justify_items": null,
                "left": null,
                "margin": null,
                "max_height": null,
                "max_width": null,
                "min_height": null,
                "min_width": null,
                "object_fit": null,
                "object_position": null,
                "order": null,
                "overflow": null,
                "overflow_x": null,
                "overflow_y": null,
                "padding": null,
                "right": null,
                "top": null,
                "visibility": null,
                "width": null
            }
        },
        "5485cef777a84b828ec7dfbbc705786e": {
            "model_module": "@jupyter-widgets/controls",
            "model_name": "DescriptionStyleModel",
            "model_module_version": "1.5.0",
            "state": {
                "_model_module": "@jupyter-widgets/controls",
                "_model_module_version": "1.5.0",
                "_model_name": "DescriptionStyleModel",
                "_view_count": null,
                "_view_module": "@jupyter-widgets/base",
                "_view_module_version": "1.2.0",
                "_view_name": "StyleView",
                "description_width": ""
            }
        },
        "7179c4ff1a2e40538ad4bdd1b68de1ff": {
            "model_module": "@jupyter-widgets/controls",
            "model_name": "HBoxModel",
            "model_module_version": "1.5.0",
            "state": {
                "_dom_classes": [],
                "_model_module": "@jupyter-widgets/controls",
                "_model_module_version": "1.5.0",
                "_model_name": "HBoxModel",
                "_view_count": null,
                "_view_module": "@jupyter-widgets/controls",
                "_view_module_version": "1.5.0",
                "_view_name": "HBoxView",
                "box_style": "",
                "children": [
                    "IPY_MODEL_905ce107eccf427ab4ace1c2d2644f95",
                    "IPY_MODEL_662407e6b14c462ab1c068261b4bad2c",
                    "IPY_MODEL_27d25bb64a5b45b4940050538cc49bc2"
                ],
                "layout": "IPY_MODEL_63d2762de9724bdc8c6f39d1db974e66"
            }
        },
        "905ce107eccf427ab4ace1c2d2644f95": {
            "model_module": "@jupyter-widgets/controls",
            "model_name": "HTMLModel",
            "model_module_version": "1.5.0",
            "state": {
                "_dom_classes": [],
                "_model_module": "@jupyter-widgets/controls",
                "_model_module_version": "1.5.0",
                "_model_name": "HTMLModel",
                "_view_count": null,
                "_view_module": "@jupyter-widgets/controls",
                "_view_module_version": "1.5.0",
                "_view_name": "HTMLView",
                "description": "",
                "description_tooltip": null,
                "layout": "IPY_MODEL_542a307493ef4cd789ff76b97168d452",
                "placeholder": "​",
                "style": "IPY_MODEL_64102a9789e64b7aaa7bd0116ae31140",
                "value": "pytorch_model.bin: 100%"
            }
        },
        "662407e6b14c462ab1c068261b4bad2c": {
            "model_module": "@jupyter-widgets/controls",
            "model_name": "FloatProgressModel",
            "model_module_version": "1.5.0",
            "state": {
                "_dom_classes": [],
                "_model_module": "@jupyter-widgets/controls",
                "_model_module_version": "1.5.0",
                "_model_name": "FloatProgressModel",
                "_view_count": null,
                "_view_module": "@jupyter-widgets/controls",
                "_view_module_version": "1.5.0",
                "_view_name": "ProgressView",
                "bar_style": "success",
                "description": "",
                "description_tooltip": null,
                "layout": "IPY_MODEL_e5d8bd19c0b44ce2ad25b0be6cdbc89f",
                "max": 1421616585,
                "min": 0,
                "orientation": "horizontal",
                "style": "IPY_MODEL_5e5eb952753245e3bfb9b317e7add0a0",
                "value": 1421616585
            }
        },
        "27d25bb64a5b45b4940050538cc49bc2": {
            "model_module": "@jupyter-widgets/controls",
            "model_name": "HTMLModel",
            "model_module_version": "1.5.0",
            "state": {
                "_dom_classes": [],
                "_model_module": "@jupyter-widgets/controls",
                "_model_module_version": "1.5.0",
                "_model_name": "HTMLModel",
                "_view_count": null,
                "_view_module": "@jupyter-widgets/controls",
                "_view_module_version": "1.5.0",
                "_view_name": "HTMLView",
                "description": "",
                "description_tooltip": null,
                "layout": "IPY_MODEL_3b30da7aaa5b4bde8c6e16895d691e98",
                "placeholder": "​",
                "style": "IPY_MODEL_4258f3f7f80f477988ff027710e6bca1",
                "value": " 1.42G/1.42G [00:19&lt;00:00, 63.8MB/s]"
            }
        },
        "63d2762de9724bdc8c6f39d1db974e66": {
            "model_module": "@jupyter-widgets/base",
            "model_name": "LayoutModel",
            "model_module_version": "1.2.0",
            "state": {
                "_model_module": "@jupyter-widgets/base",
                "_model_module_version": "1.2.0",
                "_model_name": "LayoutModel",
                "_view_count": null,
                "_view_module": "@jupyter-widgets/base",
                "_view_module_version": "1.2.0",
                "_view_name": "LayoutView",
                "align_content": null,
                "align_items": null,
                "align_self": null,
                "border": null,
                "bottom": null,
                "display": null,
                "flex": null,
                "flex_flow": null,
                "grid_area": null,
                "grid_auto_columns": null,
                "grid_auto_flow": null,
                "grid_auto_rows": null,
                "grid_column": null,
                "grid_gap": null,
                "grid_row": null,
                "grid_template_areas": null,
                "grid_template_columns": null,
                "grid_template_rows": null,
                "height": null,
                "justify_content": null,
                "justify_items": null,
                "left": null,
                "margin": null,
                "max_height": null,
                "max_width": null,
                "min_height": null,
                "min_width": null,
                "object_fit": null,
                "object_position": null,
                "order": null,
                "overflow": null,
                "overflow_x": null,
                "overflow_y": null,
                "padding": null,
                "right": null,
                "top": null,
                "visibility": null,
                "width": null
            }
        },
        "542a307493ef4cd789ff76b97168d452": {
            "model_module": "@jupyter-widgets/base",
            "model_name": "LayoutModel",
            "model_module_version": "1.2.0",
            "state": {
                "_model_module": "@jupyter-widgets/base",
                "_model_module_version": "1.2.0",
                "_model_name": "LayoutModel",
                "_view_count": null,
                "_view_module": "@jupyter-widgets/base",
                "_view_module_version": "1.2.0",
                "_view_name": "LayoutView",
                "align_content": null,
                "align_items": null,
                "align_self": null,
                "border": null,
                "bottom": null,
                "display": null,
                "flex": null,
                "flex_flow": null,
                "grid_area": null,
                "grid_auto_columns": null,
                "grid_auto_flow": null,
                "grid_auto_rows": null,
                "grid_column": null,
                "grid_gap": null,
                "grid_row": null,
                "grid_template_areas": null,
                "grid_template_columns": null,
                "grid_template_rows": null,
                "height": null,
                "justify_content": null,
                "justify_items": null,
                "left": null,
                "margin": null,
                "max_height": null,
                "max_width": null,
                "min_height": null,
                "min_width": null,
                "object_fit": null,
                "object_position": null,
                "order": null,
                "overflow": null,
                "overflow_x": null,
                "overflow_y": null,
                "padding": null,
                "right": null,
                "top": null,
                "visibility": null,
                "width": null
            }
        },
        "64102a9789e64b7aaa7bd0116ae31140": {
            "model_module": "@jupyter-widgets/controls",
            "model_name": "DescriptionStyleModel",
            "model_module_version": "1.5.0",
            "state": {
                "_model_module": "@jupyter-widgets/controls",
                "_model_module_version": "1.5.0",
                "_model_name": "DescriptionStyleModel",
                "_view_count": null,
                "_view_module": "@jupyter-widgets/base",
                "_view_module_version": "1.2.0",
                "_view_name": "StyleView",
                "description_width": ""
            }
        },
        "e5d8bd19c0b44ce2ad25b0be6cdbc89f": {
            "model_module": "@jupyter-widgets/base",
            "model_name": "LayoutModel",
            "model_module_version": "1.2.0",
            "state": {
                "_model_module": "@jupyter-widgets/base",
                "_model_module_version": "1.2.0",
                "_model_name": "LayoutModel",
                "_view_count": null,
                "_view_module": "@jupyter-widgets/base",
                "_view_module_version": "1.2.0",
                "_view_name": "LayoutView",
                "align_content": null,
                "align_items": null,
                "align_self": null,
                "border": null,
                "bottom": null,
                "display": null,
                "flex": null,
                "flex_flow": null,
                "grid_area": null,
                "grid_auto_columns": null,
                "grid_auto_flow": null,
                "grid_auto_rows": null,
                "grid_column": null,
                "grid_gap": null,
                "grid_row": null,
                "grid_template_areas": null,
                "grid_template_columns": null,
                "grid_template_rows": null,
                "height": null,
                "justify_content": null,
                "justify_items": null,
                "left": null,
                "margin": null,
                "max_height": null,
                "max_width": null,
                "min_height": null,
                "min_width": null,
                "object_fit": null,
                "object_position": null,
                "order": null,
                "overflow": null,
                "overflow_x": null,
                "overflow_y": null,
                "padding": null,
                "right": null,
                "top": null,
                "visibility": null,
                "width": null
            }
        },
        "5e5eb952753245e3bfb9b317e7add0a0": {
            "model_module": "@jupyter-widgets/controls",
            "model_name": "ProgressStyleModel",
            "model_module_version": "1.5.0",
            "state": {
                "_model_module": "@jupyter-widgets/controls",
                "_model_module_version": "1.5.0",
                "_model_name": "ProgressStyleModel",
                "_view_count": null,
                "_view_module": "@jupyter-widgets/base",
                "_view_module_version": "1.2.0",
                "_view_name": "StyleView",
                "bar_color": null,
                "description_width": ""
            }
        },
        "3b30da7aaa5b4bde8c6e16895d691e98": {
            "model_module": "@jupyter-widgets/base",
            "model_name": "LayoutModel",
            "model_module_version": "1.2.0",
            "state": {
                "_model_module": "@jupyter-widgets/base",
                "_model_module_version": "1.2.0",
                "_model_name": "LayoutModel",
                "_view_count": null,
                "_view_module": "@jupyter-widgets/base",
                "_view_module_version": "1.2.0",
                "_view_name": "LayoutView",
                "align_content": null,
                "align_items": null,
                "align_self": null,
                "border": null,
                "bottom": null,
                "display": null,
                "flex": null,
                "flex_flow": null,
                "grid_area": null,
                "grid_auto_columns": null,
                "grid_auto_flow": null,
                "grid_auto_rows": null,
                "grid_column": null,
                "grid_gap": null,
                "grid_row": null,
                "grid_template_areas": null,
                "grid_template_columns": null,
                "grid_template_rows": null,
                "height": null,
                "justify_content": null,
                "justify_items": null,
                "left": null,
                "margin": null,
                "max_height": null,
                "max_width": null,
                "min_height": null,
                "min_width": null,
                "object_fit": null,
                "object_position": null,
                "order": null,
                "overflow": null,
                "overflow_x": null,
                "overflow_y": null,
                "padding": null,
                "right": null,
                "top": null,
                "visibility": null,
                "width": null
            }
        },
        "4258f3f7f80f477988ff027710e6bca1": {
            "model_module": "@jupyter-widgets/controls",
            "model_name": "DescriptionStyleModel",
            "model_module_version": "1.5.0",
            "state": {
                "_model_module": "@jupyter-widgets/controls",
                "_model_module_version": "1.5.0",
                "_model_name": "DescriptionStyleModel",
                "_view_count": null,
                "_view_module": "@jupyter-widgets/base",
                "_view_module_version": "1.2.0",
                "_view_name": "StyleView",
                "description_width": ""
            }
        },
        "808f6aaf6be749e09878a0df6efb2b65": {
            "model_module": "@jupyter-widgets/controls",
            "model_name": "HBoxModel",
            "model_module_version": "1.5.0",
            "state": {
                "_dom_classes": [],
                "_model_module": "@jupyter-widgets/controls",
                "_model_module_version": "1.5.0",
                "_model_name": "HBoxModel",
                "_view_count": null,
                "_view_module": "@jupyter-widgets/controls",
                "_view_module_version": "1.5.0",
                "_view_name": "HBoxView",
                "box_style": "",
                "children": [
                    "IPY_MODEL_a77a7b3b76d84e208cf2be8d11b81a3f",
                    "IPY_MODEL_d7815eb16b904958a15bcf68eff898b1",
                    "IPY_MODEL_4a8a5eb7e6054b25af4a414c5e105875"
                ],
                "layout": "IPY_MODEL_acbb121a9c5b4a6a9c77f76b733495cf"
            }
        },
        "a77a7b3b76d84e208cf2be8d11b81a3f": {
            "model_module": "@jupyter-widgets/controls",
            "model_name": "HTMLModel",
            "model_module_version": "1.5.0",
            "state": {
                "_dom_classes": [],
                "_model_module": "@jupyter-widgets/controls",
                "_model_module_version": "1.5.0",
                "_model_name": "HTMLModel",
                "_view_count": null,
                "_view_module": "@jupyter-widgets/controls",
                "_view_module_version": "1.5.0",
                "_view_name": "HTMLView",
                "description": "",
                "description_tooltip": null,
                "layout": "IPY_MODEL_96c6329db4c34097bbb0ce8a7f3fa00b",
                "placeholder": "​",
                "style": "IPY_MODEL_adc502227a634aa191c5b4eb116ea08e",
                "value": "tokenizer_config.json: 100%"
            }
        },
        "d7815eb16b904958a15bcf68eff898b1": {
            "model_module": "@jupyter-widgets/controls",
            "model_name": "FloatProgressModel",
            "model_module_version": "1.5.0",
            "state": {
                "_dom_classes": [],
                "_model_module": "@jupyter-widgets/controls",
                "_model_module_version": "1.5.0",
                "_model_name": "FloatProgressModel",
                "_view_count": null,
                "_view_module": "@jupyter-widgets/controls",
                "_view_module_version": "1.5.0",
                "_view_name": "ProgressView",
                "bar_style": "success",
                "description": "",
                "description_tooltip": null,
                "layout": "IPY_MODEL_c5b3a2b493b0492296f75c479fec58fa",
                "max": 139,
                "min": 0,
                "orientation": "horizontal",
                "style": "IPY_MODEL_a12fc5ae72634ced8f13e8ba0e7e93db",
                "value": 139
            }
        },
        "4a8a5eb7e6054b25af4a414c5e105875": {
            "model_module": "@jupyter-widgets/controls",
            "model_name": "HTMLModel",
            "model_module_version": "1.5.0",
            "state": {
                "_dom_classes": [],
                "_model_module": "@jupyter-widgets/controls",
                "_model_module_version": "1.5.0",
                "_model_name": "HTMLModel",
                "_view_count": null,
                "_view_module": "@jupyter-widgets/controls",
                "_view_module_version": "1.5.0",
                "_view_name": "HTMLView",
                "description": "",
                "description_tooltip": null,
                "layout": "IPY_MODEL_7f9a415a02bf4daabf9d46dc1b7b58a5",
                "placeholder": "​",
                "style": "IPY_MODEL_d010728e4ea543cda215b1865317c504",
                "value": " 139/139 [00:00&lt;00:00, 5.38kB/s]"
            }
        },
        "acbb121a9c5b4a6a9c77f76b733495cf": {
            "model_module": "@jupyter-widgets/base",
            "model_name": "LayoutModel",
            "model_module_version": "1.2.0",
            "state": {
                "_model_module": "@jupyter-widgets/base",
                "_model_module_version": "1.2.0",
                "_model_name": "LayoutModel",
                "_view_count": null,
                "_view_module": "@jupyter-widgets/base",
                "_view_module_version": "1.2.0",
                "_view_name": "LayoutView",
                "align_content": null,
                "align_items": null,
                "align_self": null,
                "border": null,
                "bottom": null,
                "display": null,
                "flex": null,
                "flex_flow": null,
                "grid_area": null,
                "grid_auto_columns": null,
                "grid_auto_flow": null,
                "grid_auto_rows": null,
                "grid_column": null,
                "grid_gap": null,
                "grid_row": null,
                "grid_template_areas": null,
                "grid_template_columns": null,
                "grid_template_rows": null,
                "height": null,
                "justify_content": null,
                "justify_items": null,
                "left": null,
                "margin": null,
                "max_height": null,
                "max_width": null,
                "min_height": null,
                "min_width": null,
                "object_fit": null,
                "object_position": null,
                "order": null,
                "overflow": null,
                "overflow_x": null,
                "overflow_y": null,
                "padding": null,
                "right": null,
                "top": null,
                "visibility": null,
                "width": null
            }
        },
        "96c6329db4c34097bbb0ce8a7f3fa00b": {
            "model_module": "@jupyter-widgets/base",
            "model_name": "LayoutModel",
            "model_module_version": "1.2.0",
            "state": {
                "_model_module": "@jupyter-widgets/base",
                "_model_module_version": "1.2.0",
                "_model_name": "LayoutModel",
                "_view_count": null,
                "_view_module": "@jupyter-widgets/base",
                "_view_module_version": "1.2.0",
                "_view_name": "LayoutView",
                "align_content": null,
                "align_items": null,
                "align_self": null,
                "border": null,
                "bottom": null,
                "display": null,
                "flex": null,
                "flex_flow": null,
                "grid_area": null,
                "grid_auto_columns": null,
                "grid_auto_flow": null,
                "grid_auto_rows": null,
                "grid_column": null,
                "grid_gap": null,
                "grid_row": null,
                "grid_template_areas": null,
                "grid_template_columns": null,
                "grid_template_rows": null,
                "height": null,
                "justify_content": null,
                "justify_items": null,
                "left": null,
                "margin": null,
                "max_height": null,
                "max_width": null,
                "min_height": null,
                "min_width": null,
                "object_fit": null,
                "object_position": null,
                "order": null,
                "overflow": null,
                "overflow_x": null,
                "overflow_y": null,
                "padding": null,
                "right": null,
                "top": null,
                "visibility": null,
                "width": null
            }
        },
        "adc502227a634aa191c5b4eb116ea08e": {
            "model_module": "@jupyter-widgets/controls",
            "model_name": "DescriptionStyleModel",
            "model_module_version": "1.5.0",
            "state": {
                "_model_module": "@jupyter-widgets/controls",
                "_model_module_version": "1.5.0",
                "_model_name": "DescriptionStyleModel",
                "_view_count": null,
                "_view_module": "@jupyter-widgets/base",
                "_view_module_version": "1.2.0",
                "_view_name": "StyleView",
                "description_width": ""
            }
        },
        "c5b3a2b493b0492296f75c479fec58fa": {
            "model_module": "@jupyter-widgets/base",
            "model_name": "LayoutModel",
            "model_module_version": "1.2.0",
            "state": {
                "_model_module": "@jupyter-widgets/base",
                "_model_module_version": "1.2.0",
                "_model_name": "LayoutModel",
                "_view_count": null,
                "_view_module": "@jupyter-widgets/base",
                "_view_module_version": "1.2.0",
                "_view_name": "LayoutView",
                "align_content": null,
                "align_items": null,
                "align_self": null,
                "border": null,
                "bottom": null,
                "display": null,
                "flex": null,
                "flex_flow": null,
                "grid_area": null,
                "grid_auto_columns": null,
                "grid_auto_flow": null,
                "grid_auto_rows": null,
                "grid_column": null,
                "grid_gap": null,
                "grid_row": null,
                "grid_template_areas": null,
                "grid_template_columns": null,
                "grid_template_rows": null,
                "height": null,
                "justify_content": null,
                "justify_items": null,
                "left": null,
                "margin": null,
                "max_height": null,
                "max_width": null,
                "min_height": null,
                "min_width": null,
                "object_fit": null,
                "object_position": null,
                "order": null,
                "overflow": null,
                "overflow_x": null,
                "overflow_y": null,
                "padding": null,
                "right": null,
                "top": null,
                "visibility": null,
                "width": null
            }
        },
        "a12fc5ae72634ced8f13e8ba0e7e93db": {
            "model_module": "@jupyter-widgets/controls",
            "model_name": "ProgressStyleModel",
            "model_module_version": "1.5.0",
            "state": {
                "_model_module": "@jupyter-widgets/controls",
                "_model_module_version": "1.5.0",
                "_model_name": "ProgressStyleModel",
                "_view_count": null,
                "_view_module": "@jupyter-widgets/base",
                "_view_module_version": "1.2.0",
                "_view_name": "StyleView",
                "bar_color": null,
                "description_width": ""
            }
        },
        "7f9a415a02bf4daabf9d46dc1b7b58a5": {
            "model_module": "@jupyter-widgets/base",
            "model_name": "LayoutModel",
            "model_module_version": "1.2.0",
            "state": {
                "_model_module": "@jupyter-widgets/base",
                "_model_module_version": "1.2.0",
                "_model_name": "LayoutModel",
                "_view_count": null,
                "_view_module": "@jupyter-widgets/base",
                "_view_module_version": "1.2.0",
                "_view_name": "LayoutView",
                "align_content": null,
                "align_items": null,
                "align_self": null,
                "border": null,
                "bottom": null,
                "display": null,
                "flex": null,
                "flex_flow": null,
                "grid_area": null,
                "grid_auto_columns": null,
                "grid_auto_flow": null,
                "grid_auto_rows": null,
                "grid_column": null,
                "grid_gap": null,
                "grid_row": null,
                "grid_template_areas": null,
                "grid_template_columns": null,
                "grid_template_rows": null,
                "height": null,
                "justify_content": null,
                "justify_items": null,
                "left": null,
                "margin": null,
                "max_height": null,
                "max_width": null,
                "min_height": null,
                "min_width": null,
                "object_fit": null,
                "object_position": null,
                "order": null,
                "overflow": null,
                "overflow_x": null,
                "overflow_y": null,
                "padding": null,
                "right": null,
                "top": null,
                "visibility": null,
                "width": null
            }
        },
        "d010728e4ea543cda215b1865317c504": {
            "model_module": "@jupyter-widgets/controls",
            "model_name": "DescriptionStyleModel",
            "model_module_version": "1.5.0",
            "state": {
                "_model_module": "@jupyter-widgets/controls",
                "_model_module_version": "1.5.0",
                "_model_name": "DescriptionStyleModel",
                "_view_count": null,
                "_view_module": "@jupyter-widgets/base",
                "_view_module_version": "1.2.0",
                "_view_name": "StyleView",
                "description_width": ""
            }
        },
        "982f477ece74407aa357d4f6bb366d60": {
            "model_module": "@jupyter-widgets/controls",
            "model_name": "HBoxModel",
            "model_module_version": "1.5.0",
            "state": {
                "_dom_classes": [],
                "_model_module": "@jupyter-widgets/controls",
                "_model_module_version": "1.5.0",
                "_model_name": "HBoxModel",
                "_view_count": null,
                "_view_module": "@jupyter-widgets/controls",
                "_view_module_version": "1.5.0",
                "_view_name": "HBoxView",
                "box_style": "",
                "children": [
                    "IPY_MODEL_dd92fb30225e4ed599efd2974ad33bd2",
                    "IPY_MODEL_1813ea2ecd5f42ce95f9276bcdf02c20",
                    "IPY_MODEL_b9cfc47709e949049ef96d483fee8e66"
                ],
                "layout": "IPY_MODEL_cba564aab7b141cdad3ffcfe5bd102ab"
            }
        },
        "dd92fb30225e4ed599efd2974ad33bd2": {
            "model_module": "@jupyter-widgets/controls",
            "model_name": "HTMLModel",
            "model_module_version": "1.5.0",
            "state": {
                "_dom_classes": [],
                "_model_module": "@jupyter-widgets/controls",
                "_model_module_version": "1.5.0",
                "_model_name": "HTMLModel",
                "_view_count": null,
                "_view_module": "@jupyter-widgets/controls",
                "_view_module_version": "1.5.0",
                "_view_name": "HTMLView",
                "description": "",
                "description_tooltip": null,
                "layout": "IPY_MODEL_618b7536b126424d85e711d5a493dc50",
                "placeholder": "​",
                "style": "IPY_MODEL_441b061ab9534651b73d68234688db18",
                "value": "vocab.json: 100%"
            }
        },
        "1813ea2ecd5f42ce95f9276bcdf02c20": {
            "model_module": "@jupyter-widgets/controls",
            "model_name": "FloatProgressModel",
            "model_module_version": "1.5.0",
            "state": {
                "_dom_classes": [],
                "_model_module": "@jupyter-widgets/controls",
                "_model_module_version": "1.5.0",
                "_model_name": "FloatProgressModel",
                "_view_count": null,
                "_view_module": "@jupyter-widgets/controls",
                "_view_module_version": "1.5.0",
                "_view_name": "ProgressView",
                "bar_style": "success",
                "description": "",
                "description_tooltip": null,
                "layout": "IPY_MODEL_a35abbc9eec6494884dbd19ffc692cf4",
                "max": 898822,
                "min": 0,
                "orientation": "horizontal",
                "style": "IPY_MODEL_a8e096fe4b1344358c424e6d813477f8",
                "value": 898822
            }
        },
        "b9cfc47709e949049ef96d483fee8e66": {
            "model_module": "@jupyter-widgets/controls",
            "model_name": "HTMLModel",
            "model_module_version": "1.5.0",
            "state": {
                "_dom_classes": [],
                "_model_module": "@jupyter-widgets/controls",
                "_model_module_version": "1.5.0",
                "_model_name": "HTMLModel",
                "_view_count": null,
                "_view_module": "@jupyter-widgets/controls",
                "_view_module_version": "1.5.0",
                "_view_name": "HTMLView",
                "description": "",
                "description_tooltip": null,
                "layout": "IPY_MODEL_ced3ab2ee841464a995fb09631e1dcc4",
                "placeholder": "​",
                "style": "IPY_MODEL_5271241f7a574973b5645244057f93e9",
                "value": " 899k/899k [00:00&lt;00:00, 6.61MB/s]"
            }
        },
        "cba564aab7b141cdad3ffcfe5bd102ab": {
            "model_module": "@jupyter-widgets/base",
            "model_name": "LayoutModel",
            "model_module_version": "1.2.0",
            "state": {
                "_model_module": "@jupyter-widgets/base",
                "_model_module_version": "1.2.0",
                "_model_name": "LayoutModel",
                "_view_count": null,
                "_view_module": "@jupyter-widgets/base",
                "_view_module_version": "1.2.0",
                "_view_name": "LayoutView",
                "align_content": null,
                "align_items": null,
                "align_self": null,
                "border": null,
                "bottom": null,
                "display": null,
                "flex": null,
                "flex_flow": null,
                "grid_area": null,
                "grid_auto_columns": null,
                "grid_auto_flow": null,
                "grid_auto_rows": null,
                "grid_column": null,
                "grid_gap": null,
                "grid_row": null,
                "grid_template_areas": null,
                "grid_template_columns": null,
                "grid_template_rows": null,
                "height": null,
                "justify_content": null,
                "justify_items": null,
                "left": null,
                "margin": null,
                "max_height": null,
                "max_width": null,
                "min_height": null,
                "min_width": null,
                "object_fit": null,
                "object_position": null,
                "order": null,
                "overflow": null,
                "overflow_x": null,
                "overflow_y": null,
                "padding": null,
                "right": null,
                "top": null,
                "visibility": null,
                "width": null
            }
        },
        "618b7536b126424d85e711d5a493dc50": {
            "model_module": "@jupyter-widgets/base",
            "model_name": "LayoutModel",
            "model_module_version": "1.2.0",
            "state": {
                "_model_module": "@jupyter-widgets/base",
                "_model_module_version": "1.2.0",
                "_model_name": "LayoutModel",
                "_view_count": null,
                "_view_module": "@jupyter-widgets/base",
                "_view_module_version": "1.2.0",
                "_view_name": "LayoutView",
                "align_content": null,
                "align_items": null,
                "align_self": null,
                "border": null,
                "bottom": null,
                "display": null,
                "flex": null,
                "flex_flow": null,
                "grid_area": null,
                "grid_auto_columns": null,
                "grid_auto_flow": null,
                "grid_auto_rows": null,
                "grid_column": null,
                "grid_gap": null,
                "grid_row": null,
                "grid_template_areas": null,
                "grid_template_columns": null,
                "grid_template_rows": null,
                "height": null,
                "justify_content": null,
                "justify_items": null,
                "left": null,
                "margin": null,
                "max_height": null,
                "max_width": null,
                "min_height": null,
                "min_width": null,
                "object_fit": null,
                "object_position": null,
                "order": null,
                "overflow": null,
                "overflow_x": null,
                "overflow_y": null,
                "padding": null,
                "right": null,
                "top": null,
                "visibility": null,
                "width": null
            }
        },
        "441b061ab9534651b73d68234688db18": {
            "model_module": "@jupyter-widgets/controls",
            "model_name": "DescriptionStyleModel",
            "model_module_version": "1.5.0",
            "state": {
                "_model_module": "@jupyter-widgets/controls",
                "_model_module_version": "1.5.0",
                "_model_name": "DescriptionStyleModel",
                "_view_count": null,
                "_view_module": "@jupyter-widgets/base",
                "_view_module_version": "1.2.0",
                "_view_name": "StyleView",
                "description_width": ""
            }
        },
        "a35abbc9eec6494884dbd19ffc692cf4": {
            "model_module": "@jupyter-widgets/base",
            "model_name": "LayoutModel",
            "model_module_version": "1.2.0",
            "state": {
                "_model_module": "@jupyter-widgets/base",
                "_model_module_version": "1.2.0",
                "_model_name": "LayoutModel",
                "_view_count": null,
                "_view_module": "@jupyter-widgets/base",
                "_view_module_version": "1.2.0",
                "_view_name": "LayoutView",
                "align_content": null,
                "align_items": null,
                "align_self": null,
                "border": null,
                "bottom": null,
                "display": null,
                "flex": null,
                "flex_flow": null,
                "grid_area": null,
                "grid_auto_columns": null,
                "grid_auto_flow": null,
                "grid_auto_rows": null,
                "grid_column": null,
                "grid_gap": null,
                "grid_row": null,
                "grid_template_areas": null,
                "grid_template_columns": null,
                "grid_template_rows": null,
                "height": null,
                "justify_content": null,
                "justify_items": null,
                "left": null,
                "margin": null,
                "max_height": null,
                "max_width": null,
                "min_height": null,
                "min_width": null,
                "object_fit": null,
                "object_position": null,
                "order": null,
                "overflow": null,
                "overflow_x": null,
                "overflow_y": null,
                "padding": null,
                "right": null,
                "top": null,
                "visibility": null,
                "width": null
            }
        },
        "a8e096fe4b1344358c424e6d813477f8": {
            "model_module": "@jupyter-widgets/controls",
            "model_name": "ProgressStyleModel",
            "model_module_version": "1.5.0",
            "state": {
                "_model_module": "@jupyter-widgets/controls",
                "_model_module_version": "1.5.0",
                "_model_name": "ProgressStyleModel",
                "_view_count": null,
                "_view_module": "@jupyter-widgets/base",
                "_view_module_version": "1.2.0",
                "_view_name": "StyleView",
                "bar_color": null,
                "description_width": ""
            }
        },
        "ced3ab2ee841464a995fb09631e1dcc4": {
            "model_module": "@jupyter-widgets/base",
            "model_name": "LayoutModel",
            "model_module_version": "1.2.0",
            "state": {
                "_model_module": "@jupyter-widgets/base",
                "_model_module_version": "1.2.0",
                "_model_name": "LayoutModel",
                "_view_count": null,
                "_view_module": "@jupyter-widgets/base",
                "_view_module_version": "1.2.0",
                "_view_name": "LayoutView",
                "align_content": null,
                "align_items": null,
                "align_self": null,
                "border": null,
                "bottom": null,
                "display": null,
                "flex": null,
                "flex_flow": null,
                "grid_area": null,
                "grid_auto_columns": null,
                "grid_auto_flow": null,
                "grid_auto_rows": null,
                "grid_column": null,
                "grid_gap": null,
                "grid_row": null,
                "grid_template_areas": null,
                "grid_template_columns": null,
                "grid_template_rows": null,
                "height": null,
                "justify_content": null,
                "justify_items": null,
                "left": null,
                "margin": null,
                "max_height": null,
                "max_width": null,
                "min_height": null,
                "min_width": null,
                "object_fit": null,
                "object_position": null,
                "order": null,
                "overflow": null,
                "overflow_x": null,
                "overflow_y": null,
                "padding": null,
                "right": null,
                "top": null,
                "visibility": null,
                "width": null
            }
        },
        "5271241f7a574973b5645244057f93e9": {
            "model_module": "@jupyter-widgets/controls",
            "model_name": "DescriptionStyleModel",
            "model_module_version": "1.5.0",
            "state": {
                "_model_module": "@jupyter-widgets/controls",
                "_model_module_version": "1.5.0",
                "_model_name": "DescriptionStyleModel",
                "_view_count": null,
                "_view_module": "@jupyter-widgets/base",
                "_view_module_version": "1.2.0",
                "_view_name": "StyleView",
                "description_width": ""
            }
        },
        "f22e0988982c4ee39ff369637361f9a1": {
            "model_module": "@jupyter-widgets/controls",
            "model_name": "HBoxModel",
            "model_module_version": "1.5.0",
            "state": {
                "_dom_classes": [],
                "_model_module": "@jupyter-widgets/controls",
                "_model_module_version": "1.5.0",
                "_model_name": "HBoxModel",
                "_view_count": null,
                "_view_module": "@jupyter-widgets/controls",
                "_view_module_version": "1.5.0",
                "_view_name": "HBoxView",
                "box_style": "",
                "children": [
                    "IPY_MODEL_0198023361c94b299e2cf8f8011ed3e1",
                    "IPY_MODEL_e50d3b122eca43ec848cd9bf6ad5b89d",
                    "IPY_MODEL_6a00029738454bc09aa2aea2afc07ad5"
                ],
                "layout": "IPY_MODEL_a7e61821ef714aea9048fb4c407ee8b6"
            }
        },
        "0198023361c94b299e2cf8f8011ed3e1": {
            "model_module": "@jupyter-widgets/controls",
            "model_name": "HTMLModel",
            "model_module_version": "1.5.0",
            "state": {
                "_dom_classes": [],
                "_model_module": "@jupyter-widgets/controls",
                "_model_module_version": "1.5.0",
                "_model_name": "HTMLModel",
                "_view_count": null,
                "_view_module": "@jupyter-widgets/controls",
                "_view_module_version": "1.5.0",
                "_view_name": "HTMLView",
                "description": "",
                "description_tooltip": null,
                "layout": "IPY_MODEL_842a68edc3684e7e8a751d8f55b00144",
                "placeholder": "​",
                "style": "IPY_MODEL_98d042a4282b495d8e3075331daef7ee",
                "value": "merges.txt: 100%"
            }
        },
        "e50d3b122eca43ec848cd9bf6ad5b89d": {
            "model_module": "@jupyter-widgets/controls",
            "model_name": "FloatProgressModel",
            "model_module_version": "1.5.0",
            "state": {
                "_dom_classes": [],
                "_model_module": "@jupyter-widgets/controls",
                "_model_module_version": "1.5.0",
                "_model_name": "FloatProgressModel",
                "_view_count": null,
                "_view_module": "@jupyter-widgets/controls",
                "_view_module_version": "1.5.0",
                "_view_name": "ProgressView",
                "bar_style": "success",
                "description": "",
                "description_tooltip": null,
                "layout": "IPY_MODEL_feafad981bf9408fa05da4fa82bb18b4",
                "max": 456318,
                "min": 0,
                "orientation": "horizontal",
                "style": "IPY_MODEL_722e06641a494ab3ab4886050f1d8ac9",
                "value": 456318
            }
        },
        "6a00029738454bc09aa2aea2afc07ad5": {
            "model_module": "@jupyter-widgets/controls",
            "model_name": "HTMLModel",
            "model_module_version": "1.5.0",
            "state": {
                "_dom_classes": [],
                "_model_module": "@jupyter-widgets/controls",
                "_model_module_version": "1.5.0",
                "_model_name": "HTMLModel",
                "_view_count": null,
                "_view_module": "@jupyter-widgets/controls",
                "_view_module_version": "1.5.0",
                "_view_name": "HTMLView",
                "description": "",
                "description_tooltip": null,
                "layout": "IPY_MODEL_7357e02b4dcb4b1982593f2fc6f19e1b",
                "placeholder": "​",
                "style": "IPY_MODEL_6ba1da51091e48d0970910dbd9cb6ce1",
                "value": " 456k/456k [00:00&lt;00:00, 10.6MB/s]"
            }
        },
        "a7e61821ef714aea9048fb4c407ee8b6": {
            "model_module": "@jupyter-widgets/base",
            "model_name": "LayoutModel",
            "model_module_version": "1.2.0",
            "state": {
                "_model_module": "@jupyter-widgets/base",
                "_model_module_version": "1.2.0",
                "_model_name": "LayoutModel",
                "_view_count": null,
                "_view_module": "@jupyter-widgets/base",
                "_view_module_version": "1.2.0",
                "_view_name": "LayoutView",
                "align_content": null,
                "align_items": null,
                "align_self": null,
                "border": null,
                "bottom": null,
                "display": null,
                "flex": null,
                "flex_flow": null,
                "grid_area": null,
                "grid_auto_columns": null,
                "grid_auto_flow": null,
                "grid_auto_rows": null,
                "grid_column": null,
                "grid_gap": null,
                "grid_row": null,
                "grid_template_areas": null,
                "grid_template_columns": null,
                "grid_template_rows": null,
                "height": null,
                "justify_content": null,
                "justify_items": null,
                "left": null,
                "margin": null,
                "max_height": null,
                "max_width": null,
                "min_height": null,
                "min_width": null,
                "object_fit": null,
                "object_position": null,
                "order": null,
                "overflow": null,
                "overflow_x": null,
                "overflow_y": null,
                "padding": null,
                "right": null,
                "top": null,
                "visibility": null,
                "width": null
            }
        },
        "842a68edc3684e7e8a751d8f55b00144": {
            "model_module": "@jupyter-widgets/base",
            "model_name": "LayoutModel",
            "model_module_version": "1.2.0",
            "state": {
                "_model_module": "@jupyter-widgets/base",
                "_model_module_version": "1.2.0",
                "_model_name": "LayoutModel",
                "_view_count": null,
                "_view_module": "@jupyter-widgets/base",
                "_view_module_version": "1.2.0",
                "_view_name": "LayoutView",
                "align_content": null,
                "align_items": null,
                "align_self": null,
                "border": null,
                "bottom": null,
                "display": null,
                "flex": null,
                "flex_flow": null,
                "grid_area": null,
                "grid_auto_columns": null,
                "grid_auto_flow": null,
                "grid_auto_rows": null,
                "grid_column": null,
                "grid_gap": null,
                "grid_row": null,
                "grid_template_areas": null,
                "grid_template_columns": null,
                "grid_template_rows": null,
                "height": null,
                "justify_content": null,
                "justify_items": null,
                "left": null,
                "margin": null,
                "max_height": null,
                "max_width": null,
                "min_height": null,
                "min_width": null,
                "object_fit": null,
                "object_position": null,
                "order": null,
                "overflow": null,
                "overflow_x": null,
                "overflow_y": null,
                "padding": null,
                "right": null,
                "top": null,
                "visibility": null,
                "width": null
            }
        },
        "98d042a4282b495d8e3075331daef7ee": {
            "model_module": "@jupyter-widgets/controls",
            "model_name": "DescriptionStyleModel",
            "model_module_version": "1.5.0",
            "state": {
                "_model_module": "@jupyter-widgets/controls",
                "_model_module_version": "1.5.0",
                "_model_name": "DescriptionStyleModel",
                "_view_count": null,
                "_view_module": "@jupyter-widgets/base",
                "_view_module_version": "1.2.0",
                "_view_name": "StyleView",
                "description_width": ""
            }
        },
        "feafad981bf9408fa05da4fa82bb18b4": {
            "model_module": "@jupyter-widgets/base",
            "model_name": "LayoutModel",
            "model_module_version": "1.2.0",
            "state": {
                "_model_module": "@jupyter-widgets/base",
                "_model_module_version": "1.2.0",
                "_model_name": "LayoutModel",
                "_view_count": null,
                "_view_module": "@jupyter-widgets/base",
                "_view_module_version": "1.2.0",
                "_view_name": "LayoutView",
                "align_content": null,
                "align_items": null,
                "align_self": null,
                "border": null,
                "bottom": null,
                "display": null,
                "flex": null,
                "flex_flow": null,
                "grid_area": null,
                "grid_auto_columns": null,
                "grid_auto_flow": null,
                "grid_auto_rows": null,
                "grid_column": null,
                "grid_gap": null,
                "grid_row": null,
                "grid_template_areas": null,
                "grid_template_columns": null,
                "grid_template_rows": null,
                "height": null,
                "justify_content": null,
                "justify_items": null,
                "left": null,
                "margin": null,
                "max_height": null,
                "max_width": null,
                "min_height": null,
                "min_width": null,
                "object_fit": null,
                "object_position": null,
                "order": null,
                "overflow": null,
                "overflow_x": null,
                "overflow_y": null,
                "padding": null,
                "right": null,
                "top": null,
                "visibility": null,
                "width": null
            }
        },
        "722e06641a494ab3ab4886050f1d8ac9": {
            "model_module": "@jupyter-widgets/controls",
            "model_name": "ProgressStyleModel",
            "model_module_version": "1.5.0",
            "state": {
                "_model_module": "@jupyter-widgets/controls",
                "_model_module_version": "1.5.0",
                "_model_name": "ProgressStyleModel",
                "_view_count": null,
                "_view_module": "@jupyter-widgets/base",
                "_view_module_version": "1.2.0",
                "_view_name": "StyleView",
                "bar_color": null,
                "description_width": ""
            }
        },
        "7357e02b4dcb4b1982593f2fc6f19e1b": {
            "model_module": "@jupyter-widgets/base",
            "model_name": "LayoutModel",
            "model_module_version": "1.2.0",
            "state": {
                "_model_module": "@jupyter-widgets/base",
                "_model_module_version": "1.2.0",
                "_model_name": "LayoutModel",
                "_view_count": null,
                "_view_module": "@jupyter-widgets/base",
                "_view_module_version": "1.2.0",
                "_view_name": "LayoutView",
                "align_content": null,
                "align_items": null,
                "align_self": null,
                "border": null,
                "bottom": null,
                "display": null,
                "flex": null,
                "flex_flow": null,
                "grid_area": null,
                "grid_auto_columns": null,
                "grid_auto_flow": null,
                "grid_auto_rows": null,
                "grid_column": null,
                "grid_gap": null,
                "grid_row": null,
                "grid_template_areas": null,
                "grid_template_columns": null,
                "grid_template_rows": null,
                "height": null,
                "justify_content": null,
                "justify_items": null,
                "left": null,
                "margin": null,
                "max_height": null,
                "max_width": null,
                "min_height": null,
                "min_width": null,
                "object_fit": null,
                "object_position": null,
                "order": null,
                "overflow": null,
                "overflow_x": null,
                "overflow_y": null,
                "padding": null,
                "right": null,
                "top": null,
                "visibility": null,
                "width": null
            }
        },
        "6ba1da51091e48d0970910dbd9cb6ce1": {
            "model_module": "@jupyter-widgets/controls",
            "model_name": "DescriptionStyleModel",
            "model_module_version": "1.5.0",
            "state": {
                "_model_module": "@jupyter-widgets/controls",
                "_model_module_version": "1.5.0",
                "_model_name": "DescriptionStyleModel",
                "_view_count": null,
                "_view_module": "@jupyter-widgets/base",
                "_view_module_version": "1.2.0",
                "_view_name": "StyleView",
                "description_width": ""
            }
        },
        "f84b7f1a4be04e5b9b1e618546496dfa": {
            "model_module": "@jupyter-widgets/controls",
            "model_name": "HBoxModel",
            "model_module_version": "1.5.0",
            "state": {
                "_dom_classes": [],
                "_model_module": "@jupyter-widgets/controls",
                "_model_module_version": "1.5.0",
                "_model_name": "HBoxModel",
                "_view_count": null,
                "_view_module": "@jupyter-widgets/controls",
                "_view_module_version": "1.5.0",
                "_view_name": "HBoxView",
                "box_style": "",
                "children": [
                    "IPY_MODEL_950b98e8a30b4b5e946f0f35c58ac3c0",
                    "IPY_MODEL_0aaf08b984a34ca79793b71119326207",
                    "IPY_MODEL_1633aad97ebb46439ff4d341251fc8d3"
                ],
                "layout": "IPY_MODEL_228311648dbd4c0c89d3551c4e600a74"
            }
        },
        "950b98e8a30b4b5e946f0f35c58ac3c0": {
            "model_module": "@jupyter-widgets/controls",
            "model_name": "HTMLModel",
            "model_module_version": "1.5.0",
            "state": {
                "_dom_classes": [],
                "_model_module": "@jupyter-widgets/controls",
                "_model_module_version": "1.5.0",
                "_model_name": "HTMLModel",
                "_view_count": null,
                "_view_module": "@jupyter-widgets/controls",
                "_view_module_version": "1.5.0",
                "_view_name": "HTMLView",
                "description": "",
                "description_tooltip": null,
                "layout": "IPY_MODEL_e282096362fc4aafb4221e56bb5277fc",
                "placeholder": "​",
                "style": "IPY_MODEL_b22f5cf73ffb4beab2ed210dbb35934c",
                "value": "special_tokens_map.json: 100%"
            }
        },
        "0aaf08b984a34ca79793b71119326207": {
            "model_module": "@jupyter-widgets/controls",
            "model_name": "FloatProgressModel",
            "model_module_version": "1.5.0",
            "state": {
                "_dom_classes": [],
                "_model_module": "@jupyter-widgets/controls",
                "_model_module_version": "1.5.0",
                "_model_name": "FloatProgressModel",
                "_view_count": null,
                "_view_module": "@jupyter-widgets/controls",
                "_view_module_version": "1.5.0",
                "_view_name": "ProgressView",
                "bar_style": "success",
                "description": "",
                "description_tooltip": null,
                "layout": "IPY_MODEL_94a2f4ce05b94f858160a6a1587462b5",
                "max": 772,
                "min": 0,
                "orientation": "horizontal",
                "style": "IPY_MODEL_edf3c6ec00894c6eafd138b5d903f45e",
                "value": 772
            }
        },
        "1633aad97ebb46439ff4d341251fc8d3": {
            "model_module": "@jupyter-widgets/controls",
            "model_name": "HTMLModel",
            "model_module_version": "1.5.0",
            "state": {
                "_dom_classes": [],
                "_model_module": "@jupyter-widgets/controls",
                "_model_module_version": "1.5.0",
                "_model_name": "HTMLModel",
                "_view_count": null,
                "_view_module": "@jupyter-widgets/controls",
                "_view_module_version": "1.5.0",
                "_view_name": "HTMLView",
                "description": "",
                "description_tooltip": null,
                "layout": "IPY_MODEL_372e39abab6a4980972a7c1d37c5ca90",
                "placeholder": "​",
                "style": "IPY_MODEL_a576b548f06f4117b37ad47b9bfd13a6",
                "value": " 772/772 [00:00&lt;00:00, 20.1kB/s]"
            }
        },
        "228311648dbd4c0c89d3551c4e600a74": {
            "model_module": "@jupyter-widgets/base",
            "model_name": "LayoutModel",
            "model_module_version": "1.2.0",
            "state": {
                "_model_module": "@jupyter-widgets/base",
                "_model_module_version": "1.2.0",
                "_model_name": "LayoutModel",
                "_view_count": null,
                "_view_module": "@jupyter-widgets/base",
                "_view_module_version": "1.2.0",
                "_view_name": "LayoutView",
                "align_content": null,
                "align_items": null,
                "align_self": null,
                "border": null,
                "bottom": null,
                "display": null,
                "flex": null,
                "flex_flow": null,
                "grid_area": null,
                "grid_auto_columns": null,
                "grid_auto_flow": null,
                "grid_auto_rows": null,
                "grid_column": null,
                "grid_gap": null,
                "grid_row": null,
                "grid_template_areas": null,
                "grid_template_columns": null,
                "grid_template_rows": null,
                "height": null,
                "justify_content": null,
                "justify_items": null,
                "left": null,
                "margin": null,
                "max_height": null,
                "max_width": null,
                "min_height": null,
                "min_width": null,
                "object_fit": null,
                "object_position": null,
                "order": null,
                "overflow": null,
                "overflow_x": null,
                "overflow_y": null,
                "padding": null,
                "right": null,
                "top": null,
                "visibility": null,
                "width": null
            }
        },
        "e282096362fc4aafb4221e56bb5277fc": {
            "model_module": "@jupyter-widgets/base",
            "model_name": "LayoutModel",
            "model_module_version": "1.2.0",
            "state": {
                "_model_module": "@jupyter-widgets/base",
                "_model_module_version": "1.2.0",
                "_model_name": "LayoutModel",
                "_view_count": null,
                "_view_module": "@jupyter-widgets/base",
                "_view_module_version": "1.2.0",
                "_view_name": "LayoutView",
                "align_content": null,
                "align_items": null,
                "align_self": null,
                "border": null,
                "bottom": null,
                "display": null,
                "flex": null,
                "flex_flow": null,
                "grid_area": null,
                "grid_auto_columns": null,
                "grid_auto_flow": null,
                "grid_auto_rows": null,
                "grid_column": null,
                "grid_gap": null,
                "grid_row": null,
                "grid_template_areas": null,
                "grid_template_columns": null,
                "grid_template_rows": null,
                "height": null,
                "justify_content": null,
                "justify_items": null,
                "left": null,
                "margin": null,
                "max_height": null,
                "max_width": null,
                "min_height": null,
                "min_width": null,
                "object_fit": null,
                "object_position": null,
                "order": null,
                "overflow": null,
                "overflow_x": null,
                "overflow_y": null,
                "padding": null,
                "right": null,
                "top": null,
                "visibility": null,
                "width": null
            }
        },
        "b22f5cf73ffb4beab2ed210dbb35934c": {
            "model_module": "@jupyter-widgets/controls",
            "model_name": "DescriptionStyleModel",
            "model_module_version": "1.5.0",
            "state": {
                "_model_module": "@jupyter-widgets/controls",
                "_model_module_version": "1.5.0",
                "_model_name": "DescriptionStyleModel",
                "_view_count": null,
                "_view_module": "@jupyter-widgets/base",
                "_view_module_version": "1.2.0",
                "_view_name": "StyleView",
                "description_width": ""
            }
        },
        "94a2f4ce05b94f858160a6a1587462b5": {
            "model_module": "@jupyter-widgets/base",
            "model_name": "LayoutModel",
            "model_module_version": "1.2.0",
            "state": {
                "_model_module": "@jupyter-widgets/base",
                "_model_module_version": "1.2.0",
                "_model_name": "LayoutModel",
                "_view_count": null,
                "_view_module": "@jupyter-widgets/base",
                "_view_module_version": "1.2.0",
                "_view_name": "LayoutView",
                "align_content": null,
                "align_items": null,
                "align_self": null,
                "border": null,
                "bottom": null,
                "display": null,
                "flex": null,
                "flex_flow": null,
                "grid_area": null,
                "grid_auto_columns": null,
                "grid_auto_flow": null,
                "grid_auto_rows": null,
                "grid_column": null,
                "grid_gap": null,
                "grid_row": null,
                "grid_template_areas": null,
                "grid_template_columns": null,
                "grid_template_rows": null,
                "height": null,
                "justify_content": null,
                "justify_items": null,
                "left": null,
                "margin": null,
                "max_height": null,
                "max_width": null,
                "min_height": null,
                "min_width": null,
                "object_fit": null,
                "object_position": null,
                "order": null,
                "overflow": null,
                "overflow_x": null,
                "overflow_y": null,
                "padding": null,
                "right": null,
                "top": null,
                "visibility": null,
                "width": null
            }
        },
        "edf3c6ec00894c6eafd138b5d903f45e": {
            "model_module": "@jupyter-widgets/controls",
            "model_name": "ProgressStyleModel",
            "model_module_version": "1.5.0",
            "state": {
                "_model_module": "@jupyter-widgets/controls",
                "_model_module_version": "1.5.0",
                "_model_name": "ProgressStyleModel",
                "_view_count": null,
                "_view_module": "@jupyter-widgets/base",
                "_view_module_version": "1.2.0",
                "_view_name": "StyleView",
                "bar_color": null,
                "description_width": ""
            }
        },
        "372e39abab6a4980972a7c1d37c5ca90": {
            "model_module": "@jupyter-widgets/base",
            "model_name": "LayoutModel",
            "model_module_version": "1.2.0",
            "state": {
                "_model_module": "@jupyter-widgets/base",
                "_model_module_version": "1.2.0",
                "_model_name": "LayoutModel",
                "_view_count": null,
                "_view_module": "@jupyter-widgets/base",
                "_view_module_version": "1.2.0",
                "_view_name": "LayoutView",
                "align_content": null,
                "align_items": null,
                "align_self": null,
                "border": null,
                "bottom": null,
                "display": null,
                "flex": null,
                "flex_flow": null,
                "grid_area": null,
                "grid_auto_columns": null,
                "grid_auto_flow": null,
                "grid_auto_rows": null,
                "grid_column": null,
                "grid_gap": null,
                "grid_row": null,
                "grid_template_areas": null,
                "grid_template_columns": null,
                "grid_template_rows": null,
                "height": null,
                "justify_content": null,
                "justify_items": null,
                "left": null,
                "margin": null,
                "max_height": null,
                "max_width": null,
                "min_height": null,
                "min_width": null,
                "object_fit": null,
                "object_position": null,
                "order": null,
                "overflow": null,
                "overflow_x": null,
                "overflow_y": null,
                "padding": null,
                "right": null,
                "top": null,
                "visibility": null,
                "width": null
            }
        },
        "a576b548f06f4117b37ad47b9bfd13a6": {
            "model_module": "@jupyter-widgets/controls",
            "model_name": "DescriptionStyleModel",
            "model_module_version": "1.5.0",
            "state": {
                "_model_module": "@jupyter-widgets/controls",
                "_model_module_version": "1.5.0",
                "_model_name": "DescriptionStyleModel",
                "_view_count": null,
                "_view_module": "@jupyter-widgets/base",
                "_view_module_version": "1.2.0",
                "_view_name": "StyleView",
                "description_width": ""
            }
        },
        "d9bd65a648bc4ac9aacf2dd07d50f246": {
            "model_module": "@jupyter-widgets/controls",
            "model_name": "HBoxModel",
            "model_module_version": "1.5.0",
            "state": {
                "_dom_classes": [],
                "_model_module": "@jupyter-widgets/controls",
                "_model_module_version": "1.5.0",
                "_model_name": "HBoxModel",
                "_view_count": null,
                "_view_module": "@jupyter-widgets/controls",
                "_view_module_version": "1.5.0",
                "_view_name": "HBoxView",
                "box_style": "",
                "children": [
                    "IPY_MODEL_c11b301365714ba7894c5a7d5a422146",
                    "IPY_MODEL_8b0554752a4b4430a25d570bdf74a602",
                    "IPY_MODEL_c366b26449c44ec98b5a66ff39490e8f"
                ],
                "layout": "IPY_MODEL_65892053202246ab8d67b5906bdac00f"
            }
        },
        "c11b301365714ba7894c5a7d5a422146": {
            "model_module": "@jupyter-widgets/controls",
            "model_name": "HTMLModel",
            "model_module_version": "1.5.0",
            "state": {
                "_dom_classes": [],
                "_model_module": "@jupyter-widgets/controls",
                "_model_module_version": "1.5.0",
                "_model_name": "HTMLModel",
                "_view_count": null,
                "_view_module": "@jupyter-widgets/controls",
                "_view_module_version": "1.5.0",
                "_view_name": "HTMLView",
                "description": "",
                "description_tooltip": null,
                "layout": "IPY_MODEL_3a90cec15fc147e89de3a47497aabde4",
                "placeholder": "​",
                "style": "IPY_MODEL_d1e5083f125d4c9c9fce76a6acf1c55c",
                "value": "Epoch: 100%"
            }
        },
        "8b0554752a4b4430a25d570bdf74a602": {
            "model_module": "@jupyter-widgets/controls",
            "model_name": "FloatProgressModel",
            "model_module_version": "1.5.0",
            "state": {
                "_dom_classes": [],
                "_model_module": "@jupyter-widgets/controls",
                "_model_module_version": "1.5.0",
                "_model_name": "FloatProgressModel",
                "_view_count": null,
                "_view_module": "@jupyter-widgets/controls",
                "_view_module_version": "1.5.0",
                "_view_name": "ProgressView",
                "bar_style": "success",
                "description": "",
                "description_tooltip": null,
                "layout": "IPY_MODEL_1f1bfebca58a4ecf8a99c9b2b980bc3f",
                "max": 1,
                "min": 0,
                "orientation": "horizontal",
                "style": "IPY_MODEL_26527eacd4a746dc897bcb82c1885252",
                "value": 1
            }
        },
        "c366b26449c44ec98b5a66ff39490e8f": {
            "model_module": "@jupyter-widgets/controls",
            "model_name": "HTMLModel",
            "model_module_version": "1.5.0",
            "state": {
                "_dom_classes": [],
                "_model_module": "@jupyter-widgets/controls",
                "_model_module_version": "1.5.0",
                "_model_name": "HTMLModel",
                "_view_count": null,
                "_view_module": "@jupyter-widgets/controls",
                "_view_module_version": "1.5.0",
                "_view_name": "HTMLView",
                "description": "",
                "description_tooltip": null,
                "layout": "IPY_MODEL_3158ad5b654548ad97ca40ab56878afe",
                "placeholder": "​",
                "style": "IPY_MODEL_ea1b412fa52d4dbcbea053dcca988ef0",
                "value": " 1/1 [05:40&lt;00:00, 340.65s/it]"
            }
        },
        "65892053202246ab8d67b5906bdac00f": {
            "model_module": "@jupyter-widgets/base",
            "model_name": "LayoutModel",
            "model_module_version": "1.2.0",
            "state": {
                "_model_module": "@jupyter-widgets/base",
                "_model_module_version": "1.2.0",
                "_model_name": "LayoutModel",
                "_view_count": null,
                "_view_module": "@jupyter-widgets/base",
                "_view_module_version": "1.2.0",
                "_view_name": "LayoutView",
                "align_content": null,
                "align_items": null,
                "align_self": null,
                "border": null,
                "bottom": null,
                "display": null,
                "flex": null,
                "flex_flow": null,
                "grid_area": null,
                "grid_auto_columns": null,
                "grid_auto_flow": null,
                "grid_auto_rows": null,
                "grid_column": null,
                "grid_gap": null,
                "grid_row": null,
                "grid_template_areas": null,
                "grid_template_columns": null,
                "grid_template_rows": null,
                "height": null,
                "justify_content": null,
                "justify_items": null,
                "left": null,
                "margin": null,
                "max_height": null,
                "max_width": null,
                "min_height": null,
                "min_width": null,
                "object_fit": null,
                "object_position": null,
                "order": null,
                "overflow": null,
                "overflow_x": null,
                "overflow_y": null,
                "padding": null,
                "right": null,
                "top": null,
                "visibility": null,
                "width": null
            }
        },
        "3a90cec15fc147e89de3a47497aabde4": {
            "model_module": "@jupyter-widgets/base",
            "model_name": "LayoutModel",
            "model_module_version": "1.2.0",
            "state": {
                "_model_module": "@jupyter-widgets/base",
                "_model_module_version": "1.2.0",
                "_model_name": "LayoutModel",
                "_view_count": null,
                "_view_module": "@jupyter-widgets/base",
                "_view_module_version": "1.2.0",
                "_view_name": "LayoutView",
                "align_content": null,
                "align_items": null,
                "align_self": null,
                "border": null,
                "bottom": null,
                "display": null,
                "flex": null,
                "flex_flow": null,
                "grid_area": null,
                "grid_auto_columns": null,
                "grid_auto_flow": null,
                "grid_auto_rows": null,
                "grid_column": null,
                "grid_gap": null,
                "grid_row": null,
                "grid_template_areas": null,
                "grid_template_columns": null,
                "grid_template_rows": null,
                "height": null,
                "justify_content": null,
                "justify_items": null,
                "left": null,
                "margin": null,
                "max_height": null,
                "max_width": null,
                "min_height": null,
                "min_width": null,
                "object_fit": null,
                "object_position": null,
                "order": null,
                "overflow": null,
                "overflow_x": null,
                "overflow_y": null,
                "padding": null,
                "right": null,
                "top": null,
                "visibility": null,
                "width": null
            }
        },
        "d1e5083f125d4c9c9fce76a6acf1c55c": {
            "model_module": "@jupyter-widgets/controls",
            "model_name": "DescriptionStyleModel",
            "model_module_version": "1.5.0",
            "state": {
                "_model_module": "@jupyter-widgets/controls",
                "_model_module_version": "1.5.0",
                "_model_name": "DescriptionStyleModel",
                "_view_count": null,
                "_view_module": "@jupyter-widgets/base",
                "_view_module_version": "1.2.0",
                "_view_name": "StyleView",
                "description_width": ""
            }
        },
        "1f1bfebca58a4ecf8a99c9b2b980bc3f": {
            "model_module": "@jupyter-widgets/base",
            "model_name": "LayoutModel",
            "model_module_version": "1.2.0",
            "state": {
                "_model_module": "@jupyter-widgets/base",
                "_model_module_version": "1.2.0",
                "_model_name": "LayoutModel",
                "_view_count": null,
                "_view_module": "@jupyter-widgets/base",
                "_view_module_version": "1.2.0",
                "_view_name": "LayoutView",
                "align_content": null,
                "align_items": null,
                "align_self": null,
                "border": null,
                "bottom": null,
                "display": null,
                "flex": null,
                "flex_flow": null,
                "grid_area": null,
                "grid_auto_columns": null,
                "grid_auto_flow": null,
                "grid_auto_rows": null,
                "grid_column": null,
                "grid_gap": null,
                "grid_row": null,
                "grid_template_areas": null,
                "grid_template_columns": null,
                "grid_template_rows": null,
                "height": null,
                "justify_content": null,
                "justify_items": null,
                "left": null,
                "margin": null,
                "max_height": null,
                "max_width": null,
                "min_height": null,
                "min_width": null,
                "object_fit": null,
                "object_position": null,
                "order": null,
                "overflow": null,
                "overflow_x": null,
                "overflow_y": null,
                "padding": null,
                "right": null,
                "top": null,
                "visibility": null,
                "width": null
            }
        },
        "26527eacd4a746dc897bcb82c1885252": {
            "model_module": "@jupyter-widgets/controls",
            "model_name": "ProgressStyleModel",
            "model_module_version": "1.5.0",
            "state": {
                "_model_module": "@jupyter-widgets/controls",
                "_model_module_version": "1.5.0",
                "_model_name": "ProgressStyleModel",
                "_view_count": null,
                "_view_module": "@jupyter-widgets/base",
                "_view_module_version": "1.2.0",
                "_view_name": "StyleView",
                "bar_color": null,
                "description_width": ""
            }
        },
        "3158ad5b654548ad97ca40ab56878afe": {
            "model_module": "@jupyter-widgets/base",
            "model_name": "LayoutModel",
            "model_module_version": "1.2.0",
            "state": {
                "_model_module": "@jupyter-widgets/base",
                "_model_module_version": "1.2.0",
                "_model_name": "LayoutModel",
                "_view_count": null,
                "_view_module": "@jupyter-widgets/base",
                "_view_module_version": "1.2.0",
                "_view_name": "LayoutView",
                "align_content": null,
                "align_items": null,
                "align_self": null,
                "border": null,
                "bottom": null,
                "display": null,
                "flex": null,
                "flex_flow": null,
                "grid_area": null,
                "grid_auto_columns": null,
                "grid_auto_flow": null,
                "grid_auto_rows": null,
                "grid_column": null,
                "grid_gap": null,
                "grid_row": null,
                "grid_template_areas": null,
                "grid_template_columns": null,
                "grid_template_rows": null,
                "height": null,
                "justify_content": null,
                "justify_items": null,
                "left": null,
                "margin": null,
                "max_height": null,
                "max_width": null,
                "min_height": null,
                "min_width": null,
                "object_fit": null,
                "object_position": null,
                "order": null,
                "overflow": null,
                "overflow_x": null,
                "overflow_y": null,
                "padding": null,
                "right": null,
                "top": null,
                "visibility": null,
                "width": null
            }
        },
        "ea1b412fa52d4dbcbea053dcca988ef0": {
            "model_module": "@jupyter-widgets/controls",
            "model_name": "DescriptionStyleModel",
            "model_module_version": "1.5.0",
            "state": {
                "_model_module": "@jupyter-widgets/controls",
                "_model_module_version": "1.5.0",
                "_model_name": "DescriptionStyleModel",
                "_view_count": null,
                "_view_module": "@jupyter-widgets/base",
                "_view_module_version": "1.2.0",
                "_view_name": "StyleView",
                "description_width": ""
            }
        },
        "090dabee02af4ce682ef75101791c3be": {
            "model_module": "@jupyter-widgets/controls",
            "model_name": "HBoxModel",
            "model_module_version": "1.5.0",
            "state": {
                "_dom_classes": [],
                "_model_module": "@jupyter-widgets/controls",
                "_model_module_version": "1.5.0",
                "_model_name": "HBoxModel",
                "_view_count": null,
                "_view_module": "@jupyter-widgets/controls",
                "_view_module_version": "1.5.0",
                "_view_name": "HBoxView",
                "box_style": "",
                "children": [
                    "IPY_MODEL_f5206a056890412ea9ad4f205473d139",
                    "IPY_MODEL_b63ee4443ada4e7bb1e3f65264ebf61d",
                    "IPY_MODEL_8a3393c9d47040679bafd72a3de4e30a"
                ],
                "layout": "IPY_MODEL_17baf01d09654c40acfa7a7edcac87bb"
            }
        },
        "f5206a056890412ea9ad4f205473d139": {
            "model_module": "@jupyter-widgets/controls",
            "model_name": "HTMLModel",
            "model_module_version": "1.5.0",
            "state": {
                "_dom_classes": [],
                "_model_module": "@jupyter-widgets/controls",
                "_model_module_version": "1.5.0",
                "_model_name": "HTMLModel",
                "_view_count": null,
                "_view_module": "@jupyter-widgets/controls",
                "_view_module_version": "1.5.0",
                "_view_name": "HTMLView",
                "description": "",
                "description_tooltip": null,
                "layout": "IPY_MODEL_df14c70a706b4504ad5a48a47d9ce730",
                "placeholder": "​",
                "style": "IPY_MODEL_7c7fd2824f604e0482b86ee5a6e7c7dd",
                "value": "Iteration: 100%"
            }
        },
        "b63ee4443ada4e7bb1e3f65264ebf61d": {
            "model_module": "@jupyter-widgets/controls",
            "model_name": "FloatProgressModel",
            "model_module_version": "1.5.0",
            "state": {
                "_dom_classes": [],
                "_model_module": "@jupyter-widgets/controls",
                "_model_module_version": "1.5.0",
                "_model_name": "FloatProgressModel",
                "_view_count": null,
                "_view_module": "@jupyter-widgets/controls",
                "_view_module_version": "1.5.0",
                "_view_name": "ProgressView",
                "bar_style": "success",
                "description": "",
                "description_tooltip": null,
                "layout": "IPY_MODEL_156da110de8d48cebe3023bb81dbb2e0",
                "max": 1125,
                "min": 0,
                "orientation": "horizontal",
                "style": "IPY_MODEL_5770cc07a8214cd09031088531b3d1f9",
                "value": 1125
            }
        },
        "8a3393c9d47040679bafd72a3de4e30a": {
            "model_module": "@jupyter-widgets/controls",
            "model_name": "HTMLModel",
            "model_module_version": "1.5.0",
            "state": {
                "_dom_classes": [],
                "_model_module": "@jupyter-widgets/controls",
                "_model_module_version": "1.5.0",
                "_model_name": "HTMLModel",
                "_view_count": null,
                "_view_module": "@jupyter-widgets/controls",
                "_view_module_version": "1.5.0",
                "_view_name": "HTMLView",
                "description": "",
                "description_tooltip": null,
                "layout": "IPY_MODEL_5c3e8b4081be4d1e9da4a342b21ad07f",
                "placeholder": "​",
                "style": "IPY_MODEL_59ee9666ab5c4c8fa2eb8853340b67f2",
                "value": " 1125/1125 [05:25&lt;00:00,  3.50it/s]"
            }
        },
        "17baf01d09654c40acfa7a7edcac87bb": {
            "model_module": "@jupyter-widgets/base",
            "model_name": "LayoutModel",
            "model_module_version": "1.2.0",
            "state": {
                "_model_module": "@jupyter-widgets/base",
                "_model_module_version": "1.2.0",
                "_model_name": "LayoutModel",
                "_view_count": null,
                "_view_module": "@jupyter-widgets/base",
                "_view_module_version": "1.2.0",
                "_view_name": "LayoutView",
                "align_content": null,
                "align_items": null,
                "align_self": null,
                "border": null,
                "bottom": null,
                "display": null,
                "flex": null,
                "flex_flow": null,
                "grid_area": null,
                "grid_auto_columns": null,
                "grid_auto_flow": null,
                "grid_auto_rows": null,
                "grid_column": null,
                "grid_gap": null,
                "grid_row": null,
                "grid_template_areas": null,
                "grid_template_columns": null,
                "grid_template_rows": null,
                "height": null,
                "justify_content": null,
                "justify_items": null,
                "left": null,
                "margin": null,
                "max_height": null,
                "max_width": null,
                "min_height": null,
                "min_width": null,
                "object_fit": null,
                "object_position": null,
                "order": null,
                "overflow": null,
                "overflow_x": null,
                "overflow_y": null,
                "padding": null,
                "right": null,
                "top": null,
                "visibility": null,
                "width": null
            }
        },
        "df14c70a706b4504ad5a48a47d9ce730": {
            "model_module": "@jupyter-widgets/base",
            "model_name": "LayoutModel",
            "model_module_version": "1.2.0",
            "state": {
                "_model_module": "@jupyter-widgets/base",
                "_model_module_version": "1.2.0",
                "_model_name": "LayoutModel",
                "_view_count": null,
                "_view_module": "@jupyter-widgets/base",
                "_view_module_version": "1.2.0",
                "_view_name": "LayoutView",
                "align_content": null,
                "align_items": null,
                "align_self": null,
                "border": null,
                "bottom": null,
                "display": null,
                "flex": null,
                "flex_flow": null,
                "grid_area": null,
                "grid_auto_columns": null,
                "grid_auto_flow": null,
                "grid_auto_rows": null,
                "grid_column": null,
                "grid_gap": null,
                "grid_row": null,
                "grid_template_areas": null,
                "grid_template_columns": null,
                "grid_template_rows": null,
                "height": null,
                "justify_content": null,
                "justify_items": null,
                "left": null,
                "margin": null,
                "max_height": null,
                "max_width": null,
                "min_height": null,
                "min_width": null,
                "object_fit": null,
                "object_position": null,
                "order": null,
                "overflow": null,
                "overflow_x": null,
                "overflow_y": null,
                "padding": null,
                "right": null,
                "top": null,
                "visibility": null,
                "width": null
            }
        },
        "7c7fd2824f604e0482b86ee5a6e7c7dd": {
            "model_module": "@jupyter-widgets/controls",
            "model_name": "DescriptionStyleModel",
            "model_module_version": "1.5.0",
            "state": {
                "_model_module": "@jupyter-widgets/controls",
                "_model_module_version": "1.5.0",
                "_model_name": "DescriptionStyleModel",
                "_view_count": null,
                "_view_module": "@jupyter-widgets/base",
                "_view_module_version": "1.2.0",
                "_view_name": "StyleView",
                "description_width": ""
            }
        },
        "156da110de8d48cebe3023bb81dbb2e0": {
            "model_module": "@jupyter-widgets/base",
            "model_name": "LayoutModel",
            "model_module_version": "1.2.0",
            "state": {
                "_model_module": "@jupyter-widgets/base",
                "_model_module_version": "1.2.0",
                "_model_name": "LayoutModel",
                "_view_count": null,
                "_view_module": "@jupyter-widgets/base",
                "_view_module_version": "1.2.0",
                "_view_name": "LayoutView",
                "align_content": null,
                "align_items": null,
                "align_self": null,
                "border": null,
                "bottom": null,
                "display": null,
                "flex": null,
                "flex_flow": null,
                "grid_area": null,
                "grid_auto_columns": null,
                "grid_auto_flow": null,
                "grid_auto_rows": null,
                "grid_column": null,
                "grid_gap": null,
                "grid_row": null,
                "grid_template_areas": null,
                "grid_template_columns": null,
                "grid_template_rows": null,
                "height": null,
                "justify_content": null,
                "justify_items": null,
                "left": null,
                "margin": null,
                "max_height": null,
                "max_width": null,
                "min_height": null,
                "min_width": null,
                "object_fit": null,
                "object_position": null,
                "order": null,
                "overflow": null,
                "overflow_x": null,
                "overflow_y": null,
                "padding": null,
                "right": null,
                "top": null,
                "visibility": null,
                "width": null
            }
        },
        "5770cc07a8214cd09031088531b3d1f9": {
            "model_module": "@jupyter-widgets/controls",
            "model_name": "ProgressStyleModel",
            "model_module_version": "1.5.0",
            "state": {
                "_model_module": "@jupyter-widgets/controls",
                "_model_module_version": "1.5.0",
                "_model_name": "ProgressStyleModel",
                "_view_count": null,
                "_view_module": "@jupyter-widgets/base",
                "_view_module_version": "1.2.0",
                "_view_name": "StyleView",
                "bar_color": null,
                "description_width": ""
            }
        },
        "5c3e8b4081be4d1e9da4a342b21ad07f": {
            "model_module": "@jupyter-widgets/base",
            "model_name": "LayoutModel",
            "model_module_version": "1.2.0",
            "state": {
                "_model_module": "@jupyter-widgets/base",
                "_model_module_version": "1.2.0",
                "_model_name": "LayoutModel",
                "_view_count": null,
                "_view_module": "@jupyter-widgets/base",
                "_view_module_version": "1.2.0",
                "_view_name": "LayoutView",
                "align_content": null,
                "align_items": null,
                "align_self": null,
                "border": null,
                "bottom": null,
                "display": null,
                "flex": null,
                "flex_flow": null,
                "grid_area": null,
                "grid_auto_columns": null,
                "grid_auto_flow": null,
                "grid_auto_rows": null,
                "grid_column": null,
                "grid_gap": null,
                "grid_row": null,
                "grid_template_areas": null,
                "grid_template_columns": null,
                "grid_template_rows": null,
                "height": null,
                "justify_content": null,
                "justify_items": null,
                "left": null,
                "margin": null,
                "max_height": null,
                "max_width": null,
                "min_height": null,
                "min_width": null,
                "object_fit": null,
                "object_position": null,
                "order": null,
                "overflow": null,
                "overflow_x": null,
                "overflow_y": null,
                "padding": null,
                "right": null,
                "top": null,
                "visibility": null,
                "width": null
            }
        },
        "59ee9666ab5c4c8fa2eb8853340b67f2": {
            "model_module": "@jupyter-widgets/controls",
            "model_name": "DescriptionStyleModel",
            "model_module_version": "1.5.0",
            "state": {
                "_model_module": "@jupyter-widgets/controls",
                "_model_module_version": "1.5.0",
                "_model_name": "DescriptionStyleModel",
                "_view_count": null,
                "_view_module": "@jupyter-widgets/base",
                "_view_module_version": "1.2.0",
                "_view_name": "StyleView",
                "description_width": ""
            }
        }
    },
    "nbformat": 4,
    "nbformat_minor": 0
}
